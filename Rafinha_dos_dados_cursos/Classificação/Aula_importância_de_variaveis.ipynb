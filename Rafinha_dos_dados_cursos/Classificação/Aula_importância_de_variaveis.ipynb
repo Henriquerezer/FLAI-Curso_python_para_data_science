{
  "nbformat": 4,
  "nbformat_minor": 0,
  "metadata": {
    "colab": {
      "name": "Aula_importância_de_variaveis.ipynb",
      "provenance": [],
      "authorship_tag": "ABX9TyOPkB/mjZUOsnYBScjJsfdJ",
      "include_colab_link": true
    },
    "kernelspec": {
      "name": "python3",
      "display_name": "Python 3"
    },
    "language_info": {
      "name": "python"
    }
  },
  "cells": [
    {
      "cell_type": "markdown",
      "metadata": {
        "id": "view-in-github",
        "colab_type": "text"
      },
      "source": [
        "<a href=\"https://colab.research.google.com/github/Henriquerezer/FLAI-Cursos/blob/main/Rafinha_dos_dados_cursos/Classifica%C3%A7%C3%A3o/Aula_import%C3%A2ncia_de_variaveis.ipynb\" target=\"_parent\"><img src=\"https://colab.research.google.com/assets/colab-badge.svg\" alt=\"Open In Colab\"/></a>"
      ]
    },
    {
      "cell_type": "code",
      "execution_count": 2,
      "metadata": {
        "colab": {
          "base_uri": "https://localhost:8080/"
        },
        "id": "Bj5tddh87HvG",
        "outputId": "807a3ca0-969d-415d-ee1f-5382e0796c4b"
      },
      "outputs": [
        {
          "output_type": "stream",
          "name": "stdout",
          "text": [
            "Mounted at /content/gdrive\n"
          ]
        }
      ],
      "source": [
        "#bibliotecas padrão\n",
        "import pandas as pd \n",
        "import numpy as np\n",
        "import matplotlib.pyplot as plt\n",
        "\n",
        "# código para permitir acesso ao meu google drive, assim poderei importar os dados, sem precisar fazer upload\n",
        "from google.colab import drive\n",
        "drive.mount('/content/gdrive')"
      ]
    },
    {
      "cell_type": "markdown",
      "source": [
        "# Dados"
      ],
      "metadata": {
        "id": "GyArpWul7aiS"
      }
    },
    {
      "cell_type": "code",
      "source": [
        "caminho = '/content/gdrive/MyDrive/Colab_Notebooks/FLAI/Rafinha dos dados/Classificação/Dados/feat_imp.csv'\n",
        "dados = pd.read_csv(caminho)\n",
        "dados"
      ],
      "metadata": {
        "colab": {
          "base_uri": "https://localhost:8080/",
          "height": 488
        },
        "id": "jEYeLjJF7Kz2",
        "outputId": "37e66e7b-b545-4dd9-aa94-4f74f6dc3a12"
      },
      "execution_count": 3,
      "outputs": [
        {
          "output_type": "execute_result",
          "data": {
            "text/plain": [
              "      CreditScore  Age  Tenure    Balance  NumOfProducts  HasCrCard  \\\n",
              "0             619   42       2       0.00              1          1   \n",
              "1             608   41       1   83807.86              1          0   \n",
              "2             502   42       8  159660.80              3          1   \n",
              "3             699   39       1       0.00              2          0   \n",
              "4             850   43       2  125510.82              1          1   \n",
              "...           ...  ...     ...        ...            ...        ...   \n",
              "9995          771   39       5       0.00              2          1   \n",
              "9996          516   35      10   57369.61              1          1   \n",
              "9997          709   36       7       0.00              1          0   \n",
              "9998          772   42       3   75075.31              2          1   \n",
              "9999          792   28       4  130142.79              1          1   \n",
              "\n",
              "      IsActiveMember  EstimatedSalary  Geography_France  Geography_Germany  \\\n",
              "0                  1        101348.88                 1                  0   \n",
              "1                  1        112542.58                 0                  0   \n",
              "2                  0        113931.57                 1                  0   \n",
              "3                  0         93826.63                 1                  0   \n",
              "4                  1         79084.10                 0                  0   \n",
              "...              ...              ...               ...                ...   \n",
              "9995               0         96270.64                 1                  0   \n",
              "9996               1        101699.77                 1                  0   \n",
              "9997               1         42085.58                 1                  0   \n",
              "9998               0         92888.52                 0                  1   \n",
              "9999               0         38190.78                 1                  0   \n",
              "\n",
              "      Geography_Spain  Gender_Female  Gender_Male  Exited  \n",
              "0                   0              1            0       1  \n",
              "1                   1              1            0       0  \n",
              "2                   0              1            0       1  \n",
              "3                   0              1            0       0  \n",
              "4                   1              1            0       0  \n",
              "...               ...            ...          ...     ...  \n",
              "9995                0              0            1       0  \n",
              "9996                0              0            1       0  \n",
              "9997                0              1            0       1  \n",
              "9998                0              0            1       1  \n",
              "9999                0              1            0       0  \n",
              "\n",
              "[10000 rows x 14 columns]"
            ],
            "text/html": [
              "\n",
              "  <div id=\"df-0630f935-66d0-4263-8d42-b1f616ff8573\">\n",
              "    <div class=\"colab-df-container\">\n",
              "      <div>\n",
              "<style scoped>\n",
              "    .dataframe tbody tr th:only-of-type {\n",
              "        vertical-align: middle;\n",
              "    }\n",
              "\n",
              "    .dataframe tbody tr th {\n",
              "        vertical-align: top;\n",
              "    }\n",
              "\n",
              "    .dataframe thead th {\n",
              "        text-align: right;\n",
              "    }\n",
              "</style>\n",
              "<table border=\"1\" class=\"dataframe\">\n",
              "  <thead>\n",
              "    <tr style=\"text-align: right;\">\n",
              "      <th></th>\n",
              "      <th>CreditScore</th>\n",
              "      <th>Age</th>\n",
              "      <th>Tenure</th>\n",
              "      <th>Balance</th>\n",
              "      <th>NumOfProducts</th>\n",
              "      <th>HasCrCard</th>\n",
              "      <th>IsActiveMember</th>\n",
              "      <th>EstimatedSalary</th>\n",
              "      <th>Geography_France</th>\n",
              "      <th>Geography_Germany</th>\n",
              "      <th>Geography_Spain</th>\n",
              "      <th>Gender_Female</th>\n",
              "      <th>Gender_Male</th>\n",
              "      <th>Exited</th>\n",
              "    </tr>\n",
              "  </thead>\n",
              "  <tbody>\n",
              "    <tr>\n",
              "      <th>0</th>\n",
              "      <td>619</td>\n",
              "      <td>42</td>\n",
              "      <td>2</td>\n",
              "      <td>0.00</td>\n",
              "      <td>1</td>\n",
              "      <td>1</td>\n",
              "      <td>1</td>\n",
              "      <td>101348.88</td>\n",
              "      <td>1</td>\n",
              "      <td>0</td>\n",
              "      <td>0</td>\n",
              "      <td>1</td>\n",
              "      <td>0</td>\n",
              "      <td>1</td>\n",
              "    </tr>\n",
              "    <tr>\n",
              "      <th>1</th>\n",
              "      <td>608</td>\n",
              "      <td>41</td>\n",
              "      <td>1</td>\n",
              "      <td>83807.86</td>\n",
              "      <td>1</td>\n",
              "      <td>0</td>\n",
              "      <td>1</td>\n",
              "      <td>112542.58</td>\n",
              "      <td>0</td>\n",
              "      <td>0</td>\n",
              "      <td>1</td>\n",
              "      <td>1</td>\n",
              "      <td>0</td>\n",
              "      <td>0</td>\n",
              "    </tr>\n",
              "    <tr>\n",
              "      <th>2</th>\n",
              "      <td>502</td>\n",
              "      <td>42</td>\n",
              "      <td>8</td>\n",
              "      <td>159660.80</td>\n",
              "      <td>3</td>\n",
              "      <td>1</td>\n",
              "      <td>0</td>\n",
              "      <td>113931.57</td>\n",
              "      <td>1</td>\n",
              "      <td>0</td>\n",
              "      <td>0</td>\n",
              "      <td>1</td>\n",
              "      <td>0</td>\n",
              "      <td>1</td>\n",
              "    </tr>\n",
              "    <tr>\n",
              "      <th>3</th>\n",
              "      <td>699</td>\n",
              "      <td>39</td>\n",
              "      <td>1</td>\n",
              "      <td>0.00</td>\n",
              "      <td>2</td>\n",
              "      <td>0</td>\n",
              "      <td>0</td>\n",
              "      <td>93826.63</td>\n",
              "      <td>1</td>\n",
              "      <td>0</td>\n",
              "      <td>0</td>\n",
              "      <td>1</td>\n",
              "      <td>0</td>\n",
              "      <td>0</td>\n",
              "    </tr>\n",
              "    <tr>\n",
              "      <th>4</th>\n",
              "      <td>850</td>\n",
              "      <td>43</td>\n",
              "      <td>2</td>\n",
              "      <td>125510.82</td>\n",
              "      <td>1</td>\n",
              "      <td>1</td>\n",
              "      <td>1</td>\n",
              "      <td>79084.10</td>\n",
              "      <td>0</td>\n",
              "      <td>0</td>\n",
              "      <td>1</td>\n",
              "      <td>1</td>\n",
              "      <td>0</td>\n",
              "      <td>0</td>\n",
              "    </tr>\n",
              "    <tr>\n",
              "      <th>...</th>\n",
              "      <td>...</td>\n",
              "      <td>...</td>\n",
              "      <td>...</td>\n",
              "      <td>...</td>\n",
              "      <td>...</td>\n",
              "      <td>...</td>\n",
              "      <td>...</td>\n",
              "      <td>...</td>\n",
              "      <td>...</td>\n",
              "      <td>...</td>\n",
              "      <td>...</td>\n",
              "      <td>...</td>\n",
              "      <td>...</td>\n",
              "      <td>...</td>\n",
              "    </tr>\n",
              "    <tr>\n",
              "      <th>9995</th>\n",
              "      <td>771</td>\n",
              "      <td>39</td>\n",
              "      <td>5</td>\n",
              "      <td>0.00</td>\n",
              "      <td>2</td>\n",
              "      <td>1</td>\n",
              "      <td>0</td>\n",
              "      <td>96270.64</td>\n",
              "      <td>1</td>\n",
              "      <td>0</td>\n",
              "      <td>0</td>\n",
              "      <td>0</td>\n",
              "      <td>1</td>\n",
              "      <td>0</td>\n",
              "    </tr>\n",
              "    <tr>\n",
              "      <th>9996</th>\n",
              "      <td>516</td>\n",
              "      <td>35</td>\n",
              "      <td>10</td>\n",
              "      <td>57369.61</td>\n",
              "      <td>1</td>\n",
              "      <td>1</td>\n",
              "      <td>1</td>\n",
              "      <td>101699.77</td>\n",
              "      <td>1</td>\n",
              "      <td>0</td>\n",
              "      <td>0</td>\n",
              "      <td>0</td>\n",
              "      <td>1</td>\n",
              "      <td>0</td>\n",
              "    </tr>\n",
              "    <tr>\n",
              "      <th>9997</th>\n",
              "      <td>709</td>\n",
              "      <td>36</td>\n",
              "      <td>7</td>\n",
              "      <td>0.00</td>\n",
              "      <td>1</td>\n",
              "      <td>0</td>\n",
              "      <td>1</td>\n",
              "      <td>42085.58</td>\n",
              "      <td>1</td>\n",
              "      <td>0</td>\n",
              "      <td>0</td>\n",
              "      <td>1</td>\n",
              "      <td>0</td>\n",
              "      <td>1</td>\n",
              "    </tr>\n",
              "    <tr>\n",
              "      <th>9998</th>\n",
              "      <td>772</td>\n",
              "      <td>42</td>\n",
              "      <td>3</td>\n",
              "      <td>75075.31</td>\n",
              "      <td>2</td>\n",
              "      <td>1</td>\n",
              "      <td>0</td>\n",
              "      <td>92888.52</td>\n",
              "      <td>0</td>\n",
              "      <td>1</td>\n",
              "      <td>0</td>\n",
              "      <td>0</td>\n",
              "      <td>1</td>\n",
              "      <td>1</td>\n",
              "    </tr>\n",
              "    <tr>\n",
              "      <th>9999</th>\n",
              "      <td>792</td>\n",
              "      <td>28</td>\n",
              "      <td>4</td>\n",
              "      <td>130142.79</td>\n",
              "      <td>1</td>\n",
              "      <td>1</td>\n",
              "      <td>0</td>\n",
              "      <td>38190.78</td>\n",
              "      <td>1</td>\n",
              "      <td>0</td>\n",
              "      <td>0</td>\n",
              "      <td>1</td>\n",
              "      <td>0</td>\n",
              "      <td>0</td>\n",
              "    </tr>\n",
              "  </tbody>\n",
              "</table>\n",
              "<p>10000 rows × 14 columns</p>\n",
              "</div>\n",
              "      <button class=\"colab-df-convert\" onclick=\"convertToInteractive('df-0630f935-66d0-4263-8d42-b1f616ff8573')\"\n",
              "              title=\"Convert this dataframe to an interactive table.\"\n",
              "              style=\"display:none;\">\n",
              "        \n",
              "  <svg xmlns=\"http://www.w3.org/2000/svg\" height=\"24px\"viewBox=\"0 0 24 24\"\n",
              "       width=\"24px\">\n",
              "    <path d=\"M0 0h24v24H0V0z\" fill=\"none\"/>\n",
              "    <path d=\"M18.56 5.44l.94 2.06.94-2.06 2.06-.94-2.06-.94-.94-2.06-.94 2.06-2.06.94zm-11 1L8.5 8.5l.94-2.06 2.06-.94-2.06-.94L8.5 2.5l-.94 2.06-2.06.94zm10 10l.94 2.06.94-2.06 2.06-.94-2.06-.94-.94-2.06-.94 2.06-2.06.94z\"/><path d=\"M17.41 7.96l-1.37-1.37c-.4-.4-.92-.59-1.43-.59-.52 0-1.04.2-1.43.59L10.3 9.45l-7.72 7.72c-.78.78-.78 2.05 0 2.83L4 21.41c.39.39.9.59 1.41.59.51 0 1.02-.2 1.41-.59l7.78-7.78 2.81-2.81c.8-.78.8-2.07 0-2.86zM5.41 20L4 18.59l7.72-7.72 1.47 1.35L5.41 20z\"/>\n",
              "  </svg>\n",
              "      </button>\n",
              "      \n",
              "  <style>\n",
              "    .colab-df-container {\n",
              "      display:flex;\n",
              "      flex-wrap:wrap;\n",
              "      gap: 12px;\n",
              "    }\n",
              "\n",
              "    .colab-df-convert {\n",
              "      background-color: #E8F0FE;\n",
              "      border: none;\n",
              "      border-radius: 50%;\n",
              "      cursor: pointer;\n",
              "      display: none;\n",
              "      fill: #1967D2;\n",
              "      height: 32px;\n",
              "      padding: 0 0 0 0;\n",
              "      width: 32px;\n",
              "    }\n",
              "\n",
              "    .colab-df-convert:hover {\n",
              "      background-color: #E2EBFA;\n",
              "      box-shadow: 0px 1px 2px rgba(60, 64, 67, 0.3), 0px 1px 3px 1px rgba(60, 64, 67, 0.15);\n",
              "      fill: #174EA6;\n",
              "    }\n",
              "\n",
              "    [theme=dark] .colab-df-convert {\n",
              "      background-color: #3B4455;\n",
              "      fill: #D2E3FC;\n",
              "    }\n",
              "\n",
              "    [theme=dark] .colab-df-convert:hover {\n",
              "      background-color: #434B5C;\n",
              "      box-shadow: 0px 1px 3px 1px rgba(0, 0, 0, 0.15);\n",
              "      filter: drop-shadow(0px 1px 2px rgba(0, 0, 0, 0.3));\n",
              "      fill: #FFFFFF;\n",
              "    }\n",
              "  </style>\n",
              "\n",
              "      <script>\n",
              "        const buttonEl =\n",
              "          document.querySelector('#df-0630f935-66d0-4263-8d42-b1f616ff8573 button.colab-df-convert');\n",
              "        buttonEl.style.display =\n",
              "          google.colab.kernel.accessAllowed ? 'block' : 'none';\n",
              "\n",
              "        async function convertToInteractive(key) {\n",
              "          const element = document.querySelector('#df-0630f935-66d0-4263-8d42-b1f616ff8573');\n",
              "          const dataTable =\n",
              "            await google.colab.kernel.invokeFunction('convertToInteractive',\n",
              "                                                     [key], {});\n",
              "          if (!dataTable) return;\n",
              "\n",
              "          const docLinkHtml = 'Like what you see? Visit the ' +\n",
              "            '<a target=\"_blank\" href=https://colab.research.google.com/notebooks/data_table.ipynb>data table notebook</a>'\n",
              "            + ' to learn more about interactive tables.';\n",
              "          element.innerHTML = '';\n",
              "          dataTable['output_type'] = 'display_data';\n",
              "          await google.colab.output.renderOutput(dataTable, element);\n",
              "          const docLink = document.createElement('div');\n",
              "          docLink.innerHTML = docLinkHtml;\n",
              "          element.appendChild(docLink);\n",
              "        }\n",
              "      </script>\n",
              "    </div>\n",
              "  </div>\n",
              "  "
            ]
          },
          "metadata": {},
          "execution_count": 3
        }
      ]
    },
    {
      "cell_type": "markdown",
      "source": [
        "# Separação em variaveis preditivas e variável resposta "
      ],
      "metadata": {
        "id": "Ctsl_odI8UCH"
      }
    },
    {
      "cell_type": "code",
      "source": [
        "X = dados.drop('Exited', axis = 1)\n",
        "y = dados['Exited']"
      ],
      "metadata": {
        "id": "QAB7izwe8bi3"
      },
      "execution_count": 4,
      "outputs": []
    },
    {
      "cell_type": "markdown",
      "source": [
        "#Divisão em conjunto treio e conjunto teste\n",
        "\n",
        "Esses dados não tem uma coluna de TEMPO\n",
        "\n",
        "Então faremos uma validação OUT-OF-SAMPLE"
      ],
      "metadata": {
        "id": "A9atSHef8tXh"
      }
    },
    {
      "cell_type": "code",
      "source": [
        "from sklearn.model_selection import train_test_split\n",
        "X_train, X_test, y_train, y_test = train_test_split(X,y, test_size = 0.3, random_state = 42)"
      ],
      "metadata": {
        "id": "4ktQAi7b852B"
      },
      "execution_count": 6,
      "outputs": []
    },
    {
      "cell_type": "markdown",
      "source": [
        "# Definição dos parâmentros de validação cruzada"
      ],
      "metadata": {
        "id": "IgCc17fg909Q"
      }
    },
    {
      "cell_type": "code",
      "source": [
        "from sklearn.tree import DecisionTreeClassifier\n",
        "from sklearn.model_selection import GridSearchCV\n",
        "\n",
        "parametros = {\n",
        "    'max_leaf_nodes': [4,8,16,32,64,128,256,512,1024],\n",
        "    'criterion' : ['gini','entropy']\n",
        "}\n",
        "\n",
        "#objeto de gridsearch\n",
        "\n",
        "grid = GridSearchCV(\n",
        "    DecisionTreeClassifier(random_state = 42), #Primeiro argumento: Modelo\n",
        "    parametros,                                # SEgundo argumento; Parâmetros\n",
        "    cv = 10,                                   # Argumento CV: quantidade de Folds\n",
        "    scoring = 'roc_auc',                       # Argumento scoring: Métrica (Métrica mais utilizada)\n",
        "    verbose = 5,                               # Argumento \"Verbose\": mostra na tela\n",
        ")"
      ],
      "metadata": {
        "id": "KLY9sJY198BI"
      },
      "execution_count": 7,
      "outputs": []
    },
    {
      "cell_type": "markdown",
      "source": [
        "# Encontra melhor modelo nos dados de treino por validação cruzada"
      ],
      "metadata": {
        "id": "79OCDwhL-Op5"
      }
    },
    {
      "cell_type": "code",
      "source": [
        "grid.fit(X_train, y_train)"
      ],
      "metadata": {
        "id": "KF54lreb-UeI"
      },
      "execution_count": null,
      "outputs": []
    },
    {
      "cell_type": "markdown",
      "source": [
        "# Vamos ver no nosso CONJUNTO de teste "
      ],
      "metadata": {
        "id": "_lnxCQO6-jdm"
      }
    },
    {
      "cell_type": "code",
      "source": [
        "y_pred = grid.predict_proba(X_test)\n",
        "y_pred"
      ],
      "metadata": {
        "colab": {
          "base_uri": "https://localhost:8080/"
        },
        "id": "sEubByWX-ple",
        "outputId": "d62d3821-8d58-4af6-f567-bad4f0997c22"
      },
      "execution_count": 10,
      "outputs": [
        {
          "output_type": "execute_result",
          "data": {
            "text/plain": [
              "array([[0.97566628, 0.02433372],\n",
              "       [0.96140351, 0.03859649],\n",
              "       [0.91447368, 0.08552632],\n",
              "       ...,\n",
              "       [0.76519916, 0.23480084],\n",
              "       [0.97566628, 0.02433372],\n",
              "       [0.75221239, 0.24778761]])"
            ]
          },
          "metadata": {},
          "execution_count": 10
        }
      ]
    },
    {
      "cell_type": "code",
      "source": [
        "y_pred = y_pred[:,1]\n",
        "y_pred"
      ],
      "metadata": {
        "colab": {
          "base_uri": "https://localhost:8080/"
        },
        "id": "Uwu10v9i_YKn",
        "outputId": "3373a9bb-676f-4194-8f32-c72636697186"
      },
      "execution_count": 11,
      "outputs": [
        {
          "output_type": "execute_result",
          "data": {
            "text/plain": [
              "array([0.02433372, 0.03859649, 0.08552632, ..., 0.23480084, 0.02433372,\n",
              "       0.24778761])"
            ]
          },
          "metadata": {},
          "execution_count": 11
        }
      ]
    },
    {
      "cell_type": "markdown",
      "source": [
        "# VERIFICAR A IMPORTÂNCIA DE VARIAVEIS"
      ],
      "metadata": {
        "id": "2AyUWNgS_3lP"
      }
    },
    {
      "cell_type": "code",
      "source": [
        "grid.best_estimator_.feature_importances_"
      ],
      "metadata": {
        "colab": {
          "base_uri": "https://localhost:8080/"
        },
        "id": "oeBeSeSk__Tz",
        "outputId": "394aff2b-7d94-4c45-bcd3-43beb3cc7119"
      },
      "execution_count": 12,
      "outputs": [
        {
          "output_type": "execute_result",
          "data": {
            "text/plain": [
              "array([0.        , 0.40621811, 0.        , 0.13148075, 0.33033745,\n",
              "       0.        , 0.08993142, 0.        , 0.        , 0.04203226,\n",
              "       0.        , 0.        , 0.        ])"
            ]
          },
          "metadata": {},
          "execution_count": 12
        }
      ]
    },
    {
      "cell_type": "code",
      "source": [
        "X_train.columns"
      ],
      "metadata": {
        "colab": {
          "base_uri": "https://localhost:8080/"
        },
        "id": "BULSmaBPANvM",
        "outputId": "14afe462-36a0-478d-9d64-cc6af2265172"
      },
      "execution_count": 13,
      "outputs": [
        {
          "output_type": "execute_result",
          "data": {
            "text/plain": [
              "Index(['CreditScore', 'Age', 'Tenure', 'Balance', 'NumOfProducts', 'HasCrCard',\n",
              "       'IsActiveMember', 'EstimatedSalary', 'Geography_France',\n",
              "       'Geography_Germany', 'Geography_Spain', 'Gender_Female', 'Gender_Male'],\n",
              "      dtype='object')"
            ]
          },
          "metadata": {},
          "execution_count": 13
        }
      ]
    },
    {
      "cell_type": "code",
      "source": [
        "importancias = grid.best_estimator_.feature_importances_\n",
        "ordem = np.argsort(importancias)[::-1 ]#[Isso inverte a ordem dos números]\n",
        "colunas = X.columns\n",
        "\n",
        "for col,imp in zip(colunas[ordem], importancias[ordem]):\n",
        "  print(col,imp)"
      ],
      "metadata": {
        "colab": {
          "base_uri": "https://localhost:8080/"
        },
        "id": "1tSoua5CARkv",
        "outputId": "1a81b0da-6b3a-4ec2-d062-90d344cb2a1b"
      },
      "execution_count": 18,
      "outputs": [
        {
          "output_type": "stream",
          "name": "stdout",
          "text": [
            "Age 0.406218114116893\n",
            "NumOfProducts 0.3303374522057662\n",
            "Balance 0.1314807519269129\n",
            "IsActiveMember 0.08993141760599548\n",
            "Geography_Germany 0.04203226414443237\n",
            "Gender_Male 0.0\n",
            "Gender_Female 0.0\n",
            "Geography_Spain 0.0\n",
            "Geography_France 0.0\n",
            "EstimatedSalary 0.0\n",
            "HasCrCard 0.0\n",
            "Tenure 0.0\n",
            "CreditScore 0.0\n"
          ]
        }
      ]
    },
    {
      "cell_type": "code",
      "source": [
        "importancias = grid.best_estimator_.feature_importances_\n",
        "ordem = np.argsort(importancias)[::-1 ]#[Isso inverte a ordem dos números]\n",
        "colunas = X.columns\n",
        "\n",
        "for col,imp in zip(colunas[ordem], importancias[ordem]):\n",
        "  print(f'{col},{imp}')"
      ],
      "metadata": {
        "colab": {
          "base_uri": "https://localhost:8080/"
        },
        "id": "H9EsrOEOB2c-",
        "outputId": "cc2a8c83-369f-45b7-f575-a36255ee5302"
      },
      "execution_count": 19,
      "outputs": [
        {
          "output_type": "stream",
          "name": "stdout",
          "text": [
            "Age,0.406218114116893\n",
            "NumOfProducts,0.3303374522057662\n",
            "Balance,0.1314807519269129\n",
            "IsActiveMember,0.08993141760599548\n",
            "Geography_Germany,0.04203226414443237\n",
            "Gender_Male,0.0\n",
            "Gender_Female,0.0\n",
            "Geography_Spain,0.0\n",
            "Geography_France,0.0\n",
            "EstimatedSalary,0.0\n",
            "HasCrCard,0.0\n",
            "Tenure,0.0\n",
            "CreditScore,0.0\n"
          ]
        }
      ]
    },
    {
      "cell_type": "code",
      "source": [
        "importancias = grid.best_estimator_.feature_importances_\n",
        "ordem = np.argsort(importancias)[::-1 ]#[Isso inverte a ordem dos números]\n",
        "colunas = X.columns\n",
        "\n",
        "for col,imp in zip(colunas[ordem], importancias[ordem]):\n",
        "  print(f'{col:30s},{imp:.3f}')  # (30s -> significa que a string, vai ocupar 30 espaços, por isso melhgora a visualização)"
      ],
      "metadata": {
        "colab": {
          "base_uri": "https://localhost:8080/"
        },
        "id": "zLPI0QPnCBji",
        "outputId": "a99473cf-a1b7-462f-8ad3-0861ecbc67e8"
      },
      "execution_count": 21,
      "outputs": [
        {
          "output_type": "stream",
          "name": "stdout",
          "text": [
            "Age                           ,0.406\n",
            "NumOfProducts                 ,0.330\n",
            "Balance                       ,0.131\n",
            "IsActiveMember                ,0.090\n",
            "Geography_Germany             ,0.042\n",
            "Gender_Male                   ,0.000\n",
            "Gender_Female                 ,0.000\n",
            "Geography_Spain               ,0.000\n",
            "Geography_France              ,0.000\n",
            "EstimatedSalary               ,0.000\n",
            "HasCrCard                     ,0.000\n",
            "Tenure                        ,0.000\n",
            "CreditScore                   ,0.000\n"
          ]
        }
      ]
    },
    {
      "cell_type": "markdown",
      "source": [
        "# AJUDA NA ANÁLISE PRELIMINAR \n",
        "\n",
        "Mesmo que a árvore de decissão não seja nosso melhor modelo para os nossos dados, ela pode nos ajudar a entender a importância das variáveis dos nossos dados, facilitando o ajuste de outros modelos que se Adéquem melhor aos nossos dados. "
      ],
      "metadata": {
        "id": "iXKVtlFfCe23"
      }
    },
    {
      "cell_type": "code",
      "source": [
        "plt.figure(figsize=(15,5))\n",
        "plt.hist(X.loc[y==0].Balance, rwidth= 0.8 ,bins = 100,color = 'b', alpha = 0.3, density = True, label = 'Clientes fiéis')\n",
        "plt.hist(X.loc[y==1].Balance,rwidth= 0.8 , bins = 100,color = 'r', alpha = 0.3, density = True, label = 'Abandono')\n",
        "plt.legend();"
      ],
      "metadata": {
        "colab": {
          "base_uri": "https://localhost:8080/",
          "height": 298
        },
        "id": "5maer-utDH-_",
        "outputId": "c38f8d18-41c2-4891-cadb-b1c19bccdf65"
      },
      "execution_count": 22,
      "outputs": [
        {
          "output_type": "display_data",
          "data": {
            "text/plain": [
              "<Figure size 1080x360 with 1 Axes>"
            ],
            "image/png": "[encoded data removed]"
          },
          "metadata": {
            "needs_background": "light"
          }
        }
      ]
    },
    {
      "cell_type": "code",
      "source": [
        "# ZOOM\n",
        "\n",
        "plt.figure(figsize=(15,5))\n",
        "plt.hist(X.loc[y==0].Balance, rwidth= 0.8 ,bins = np.linspace(100,250000,30),color = 'b', alpha = 0.3, density = True, label = 'Clientes fiéis')\n",
        "plt.hist(X.loc[y==1].Balance,rwidth= 0.8 , bins = np.linspace(100,250000,30),color = 'r', alpha = 0.3, density = True, label = 'Abandono')\n",
        "plt.legend();"
      ],
      "metadata": {
        "colab": {
          "base_uri": "https://localhost:8080/",
          "height": 318
        },
        "id": "ThUITNMdD-W1",
        "outputId": "becb9ed1-59b7-4106-b40f-02511d088ea5"
      },
      "execution_count": 24,
      "outputs": [
        {
          "output_type": "display_data",
          "data": {
            "text/plain": [
              "<Figure size 1080x360 with 1 Axes>"
            ],
            "image/png": "[encoded data removed]"
          },
          "metadata": {
            "needs_background": "light"
          }
        }
      ]
    },
    {
      "cell_type": "markdown",
      "source": [
        "# Podemos fazer um modelo melhor! ( Ou pelo menos mais simples)"
      ],
      "metadata": {
        "id": "-uaoGK1uEU8U"
      }
    },
    {
      "cell_type": "code",
      "source": [
        "colunas_selecionadas = [\n",
        "                        'Age',\n",
        "                        'NumOfProducts',\n",
        "                        'Balance',\n",
        "                        'IsActiveMember',\n",
        "                        'Geography_Germany',\n",
        "                        'EstimatedSalary'\n",
        "]\n",
        "\n",
        "grid.fit(X_train[colunas_selecionadas], y_train)"
      ],
      "metadata": {
        "id": "omM54BWKEa1d"
      },
      "execution_count": null,
      "outputs": []
    },
    {
      "cell_type": "markdown",
      "source": [
        "antes tinha dado 0.8335928580825248"
      ],
      "metadata": {
        "id": "VW6hsJR9FS9O"
      }
    },
    {
      "cell_type": "code",
      "source": [
        "from sklearn.metrics import roc_auc_score\n",
        "y_pred2 = grid.predict_proba(X_test[colunas_selecionadas])[:,1]\n",
        "\n",
        "roc_auc_score(y_test, y_pred2)"
      ],
      "metadata": {
        "colab": {
          "base_uri": "https://localhost:8080/"
        },
        "id": "y-CzacmVFHvx",
        "outputId": "17c7643a-8c97-4c0b-c3c8-b779f8a41aa2"
      },
      "execution_count": 29,
      "outputs": [
        {
          "output_type": "execute_result",
          "data": {
            "text/plain": [
              "0.8422155663158849"
            ]
          },
          "metadata": {},
          "execution_count": 29
        }
      ]
    },
    {
      "cell_type": "markdown",
      "source": [
        "Além de diminuir o número de colunas, também houve uma melhora na métrica AUC (0.8422155663158849)"
      ],
      "metadata": {
        "id": "WxEc_fFDGEL3"
      }
    }
  ]
}