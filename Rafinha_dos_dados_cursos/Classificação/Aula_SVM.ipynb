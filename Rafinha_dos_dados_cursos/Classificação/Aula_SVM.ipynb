{
  "nbformat": 4,
  "nbformat_minor": 0,
  "metadata": {
    "colab": {
      "name": "Aula_SVM.ipynb",
      "provenance": [],
      "authorship_tag": "ABX9TyM8R4/G/KXk6FDv+VB5n9Qo",
      "include_colab_link": true
    },
    "kernelspec": {
      "name": "python3",
      "display_name": "Python 3"
    },
    "language_info": {
      "name": "python"
    }
  },
  "cells": [
    {
      "cell_type": "markdown",
      "metadata": {
        "id": "view-in-github",
        "colab_type": "text"
      },
      "source": [
        "<a href=\"https://colab.research.google.com/github/Henriquerezer/FLAI-Cursos/blob/main/Rafinha_dos_dados_cursos/Classifica%C3%A7%C3%A3o/Aula_SVM.ipynb\" target=\"_parent\"><img src=\"https://colab.research.google.com/assets/colab-badge.svg\" alt=\"Open In Colab\"/></a>"
      ]
    },
    {
      "cell_type": "markdown",
      "source": [
        "**MÁQUINA DE VETOR DE SUPORTE**"
      ],
      "metadata": {
        "id": "u-cLJybS006a"
      }
    },
    {
      "cell_type": "code",
      "execution_count": 1,
      "metadata": {
        "colab": {
          "base_uri": "https://localhost:8080/",
          "height": 207
        },
        "id": "XcT8Sq8AwN2I",
        "outputId": "8831d6ad-d4af-4aef-db32-e89ef489e6e9"
      },
      "outputs": [
        {
          "output_type": "execute_result",
          "data": {
            "text/plain": [
              "   CreditScore  Age  Tenure    Balance  NumOfProducts  HasCrCard  \\\n",
              "0          619   42       2       0.00              1          1   \n",
              "1          608   41       1   83807.86              1          0   \n",
              "2          502   42       8  159660.80              3          1   \n",
              "\n",
              "   IsActiveMember  EstimatedSalary  Geography_France  Geography_Germany  \\\n",
              "0               1        101348.88                 1                  0   \n",
              "1               1        112542.58                 0                  0   \n",
              "2               0        113931.57                 1                  0   \n",
              "\n",
              "   Geography_Spain  Gender_Female  Gender_Male  Exited  \n",
              "0                0              1            0       1  \n",
              "1                1              1            0       0  \n",
              "2                0              1            0       1  "
            ],
            "text/html": [
              "\n",
              "  <div id=\"df-440541c4-a15a-4580-916f-732d393a463b\">\n",
              "    <div class=\"colab-df-container\">\n",
              "      <div>\n",
              "<style scoped>\n",
              "    .dataframe tbody tr th:only-of-type {\n",
              "        vertical-align: middle;\n",
              "    }\n",
              "\n",
              "    .dataframe tbody tr th {\n",
              "        vertical-align: top;\n",
              "    }\n",
              "\n",
              "    .dataframe thead th {\n",
              "        text-align: right;\n",
              "    }\n",
              "</style>\n",
              "<table border=\"1\" class=\"dataframe\">\n",
              "  <thead>\n",
              "    <tr style=\"text-align: right;\">\n",
              "      <th></th>\n",
              "      <th>CreditScore</th>\n",
              "      <th>Age</th>\n",
              "      <th>Tenure</th>\n",
              "      <th>Balance</th>\n",
              "      <th>NumOfProducts</th>\n",
              "      <th>HasCrCard</th>\n",
              "      <th>IsActiveMember</th>\n",
              "      <th>EstimatedSalary</th>\n",
              "      <th>Geography_France</th>\n",
              "      <th>Geography_Germany</th>\n",
              "      <th>Geography_Spain</th>\n",
              "      <th>Gender_Female</th>\n",
              "      <th>Gender_Male</th>\n",
              "      <th>Exited</th>\n",
              "    </tr>\n",
              "  </thead>\n",
              "  <tbody>\n",
              "    <tr>\n",
              "      <th>0</th>\n",
              "      <td>619</td>\n",
              "      <td>42</td>\n",
              "      <td>2</td>\n",
              "      <td>0.00</td>\n",
              "      <td>1</td>\n",
              "      <td>1</td>\n",
              "      <td>1</td>\n",
              "      <td>101348.88</td>\n",
              "      <td>1</td>\n",
              "      <td>0</td>\n",
              "      <td>0</td>\n",
              "      <td>1</td>\n",
              "      <td>0</td>\n",
              "      <td>1</td>\n",
              "    </tr>\n",
              "    <tr>\n",
              "      <th>1</th>\n",
              "      <td>608</td>\n",
              "      <td>41</td>\n",
              "      <td>1</td>\n",
              "      <td>83807.86</td>\n",
              "      <td>1</td>\n",
              "      <td>0</td>\n",
              "      <td>1</td>\n",
              "      <td>112542.58</td>\n",
              "      <td>0</td>\n",
              "      <td>0</td>\n",
              "      <td>1</td>\n",
              "      <td>1</td>\n",
              "      <td>0</td>\n",
              "      <td>0</td>\n",
              "    </tr>\n",
              "    <tr>\n",
              "      <th>2</th>\n",
              "      <td>502</td>\n",
              "      <td>42</td>\n",
              "      <td>8</td>\n",
              "      <td>159660.80</td>\n",
              "      <td>3</td>\n",
              "      <td>1</td>\n",
              "      <td>0</td>\n",
              "      <td>113931.57</td>\n",
              "      <td>1</td>\n",
              "      <td>0</td>\n",
              "      <td>0</td>\n",
              "      <td>1</td>\n",
              "      <td>0</td>\n",
              "      <td>1</td>\n",
              "    </tr>\n",
              "  </tbody>\n",
              "</table>\n",
              "</div>\n",
              "      <button class=\"colab-df-convert\" onclick=\"convertToInteractive('df-440541c4-a15a-4580-916f-732d393a463b')\"\n",
              "              title=\"Convert this dataframe to an interactive table.\"\n",
              "              style=\"display:none;\">\n",
              "        \n",
              "  <svg xmlns=\"http://www.w3.org/2000/svg\" height=\"24px\"viewBox=\"0 0 24 24\"\n",
              "       width=\"24px\">\n",
              "    <path d=\"M0 0h24v24H0V0z\" fill=\"none\"/>\n",
              "    <path d=\"M18.56 5.44l.94 2.06.94-2.06 2.06-.94-2.06-.94-.94-2.06-.94 2.06-2.06.94zm-11 1L8.5 8.5l.94-2.06 2.06-.94-2.06-.94L8.5 2.5l-.94 2.06-2.06.94zm10 10l.94 2.06.94-2.06 2.06-.94-2.06-.94-.94-2.06-.94 2.06-2.06.94z\"/><path d=\"M17.41 7.96l-1.37-1.37c-.4-.4-.92-.59-1.43-.59-.52 0-1.04.2-1.43.59L10.3 9.45l-7.72 7.72c-.78.78-.78 2.05 0 2.83L4 21.41c.39.39.9.59 1.41.59.51 0 1.02-.2 1.41-.59l7.78-7.78 2.81-2.81c.8-.78.8-2.07 0-2.86zM5.41 20L4 18.59l7.72-7.72 1.47 1.35L5.41 20z\"/>\n",
              "  </svg>\n",
              "      </button>\n",
              "      \n",
              "  <style>\n",
              "    .colab-df-container {\n",
              "      display:flex;\n",
              "      flex-wrap:wrap;\n",
              "      gap: 12px;\n",
              "    }\n",
              "\n",
              "    .colab-df-convert {\n",
              "      background-color: #E8F0FE;\n",
              "      border: none;\n",
              "      border-radius: 50%;\n",
              "      cursor: pointer;\n",
              "      display: none;\n",
              "      fill: #1967D2;\n",
              "      height: 32px;\n",
              "      padding: 0 0 0 0;\n",
              "      width: 32px;\n",
              "    }\n",
              "\n",
              "    .colab-df-convert:hover {\n",
              "      background-color: #E2EBFA;\n",
              "      box-shadow: 0px 1px 2px rgba(60, 64, 67, 0.3), 0px 1px 3px 1px rgba(60, 64, 67, 0.15);\n",
              "      fill: #174EA6;\n",
              "    }\n",
              "\n",
              "    [theme=dark] .colab-df-convert {\n",
              "      background-color: #3B4455;\n",
              "      fill: #D2E3FC;\n",
              "    }\n",
              "\n",
              "    [theme=dark] .colab-df-convert:hover {\n",
              "      background-color: #434B5C;\n",
              "      box-shadow: 0px 1px 3px 1px rgba(0, 0, 0, 0.15);\n",
              "      filter: drop-shadow(0px 1px 2px rgba(0, 0, 0, 0.3));\n",
              "      fill: #FFFFFF;\n",
              "    }\n",
              "  </style>\n",
              "\n",
              "      <script>\n",
              "        const buttonEl =\n",
              "          document.querySelector('#df-440541c4-a15a-4580-916f-732d393a463b button.colab-df-convert');\n",
              "        buttonEl.style.display =\n",
              "          google.colab.kernel.accessAllowed ? 'block' : 'none';\n",
              "\n",
              "        async function convertToInteractive(key) {\n",
              "          const element = document.querySelector('#df-440541c4-a15a-4580-916f-732d393a463b');\n",
              "          const dataTable =\n",
              "            await google.colab.kernel.invokeFunction('convertToInteractive',\n",
              "                                                     [key], {});\n",
              "          if (!dataTable) return;\n",
              "\n",
              "          const docLinkHtml = 'Like what you see? Visit the ' +\n",
              "            '<a target=\"_blank\" href=https://colab.research.google.com/notebooks/data_table.ipynb>data table notebook</a>'\n",
              "            + ' to learn more about interactive tables.';\n",
              "          element.innerHTML = '';\n",
              "          dataTable['output_type'] = 'display_data';\n",
              "          await google.colab.output.renderOutput(dataTable, element);\n",
              "          const docLink = document.createElement('div');\n",
              "          docLink.innerHTML = docLinkHtml;\n",
              "          element.appendChild(docLink);\n",
              "        }\n",
              "      </script>\n",
              "    </div>\n",
              "  </div>\n",
              "  "
            ]
          },
          "metadata": {},
          "execution_count": 1
        }
      ],
      "source": [
        "# bibliotecas padrão \n",
        "\n",
        "import numpy as np \n",
        "import pandas as pd\n",
        "import matplotlib.pyplot as plt\n",
        "\n",
        "#para mais tarde\n",
        "# importação dos dados do meu Github\n",
        "data = pd.read_csv('https://raw.githubusercontent.com/Henriquerezer/FLAI-Cursos/main/Rafinha_dos_dados_cursos/Classifica%C3%A7%C3%A3o/Dados/svm.csv')\n",
        "data.head(3)"
      ]
    },
    {
      "cell_type": "markdown",
      "source": [
        "# **Separação de variaveis preditivas e alvo**"
      ],
      "metadata": {
        "id": "hnOp1dnul_hR"
      }
    },
    {
      "cell_type": "code",
      "source": [
        "X = data.drop('Exited', axis = 1)\n",
        "y = data['Exited']"
      ],
      "metadata": {
        "id": "n4M6-xbuxUfx"
      },
      "execution_count": 2,
      "outputs": []
    },
    {
      "cell_type": "code",
      "source": [
        "y.mean()\n",
        "#20% da minha base é de classe 1 -> clientes que saíram da empresa\n",
        "#Dados desbalanceados(Tomar cuidado)"
      ],
      "metadata": {
        "colab": {
          "base_uri": "https://localhost:8080/"
        },
        "id": "JXw5JmYLmKrv",
        "outputId": "b084f18e-1bd2-46a6-9aa7-05d26abd5a5c"
      },
      "execution_count": 3,
      "outputs": [
        {
          "output_type": "execute_result",
          "data": {
            "text/plain": [
              "0.2037"
            ]
          },
          "metadata": {},
          "execution_count": 3
        }
      ]
    },
    {
      "cell_type": "markdown",
      "source": [
        "# **Separando em conjunto de treino e teste**"
      ],
      "metadata": {
        "id": "wbYprHgbmbfE"
      }
    },
    {
      "cell_type": "code",
      "source": [
        "from sklearn.model_selection import train_test_split\n",
        "\n",
        "X_train, X_test, y_train, y_test = train_test_split(X,y, test_size = 0.3, random_state = 42, stratify = y )"
      ],
      "metadata": {
        "id": "Ko6kDo17l63a"
      },
      "execution_count": 4,
      "outputs": []
    },
    {
      "cell_type": "code",
      "source": [
        "#Escala das variaveis \n",
        "\n",
        "X_train['CreditScore'].min(), X_train['CreditScore'].max()"
      ],
      "metadata": {
        "colab": {
          "base_uri": "https://localhost:8080/"
        },
        "id": "kVrBz1xzm8HT",
        "outputId": "e21f16d6-ecae-46f6-fe33-93010287c449"
      },
      "execution_count": 13,
      "outputs": [
        {
          "output_type": "execute_result",
          "data": {
            "text/plain": [
              "(350, 850)"
            ]
          },
          "metadata": {},
          "execution_count": 13
        }
      ]
    },
    {
      "cell_type": "code",
      "source": [
        "X_train['Age'].min(), X_train['Age'].max()"
      ],
      "metadata": {
        "colab": {
          "base_uri": "https://localhost:8080/"
        },
        "id": "GjHpkmIOnmZz",
        "outputId": "d59f049d-11aa-4ce2-a18d-de69b411bffb"
      },
      "execution_count": 14,
      "outputs": [
        {
          "output_type": "execute_result",
          "data": {
            "text/plain": [
              "(18, 92)"
            ]
          },
          "metadata": {},
          "execution_count": 14
        }
      ]
    },
    {
      "cell_type": "code",
      "source": [
        "X_train['Balance'].min(), X_train['Balance'].max()"
      ],
      "metadata": {
        "colab": {
          "base_uri": "https://localhost:8080/"
        },
        "id": "Ix9oC84ZnpJg",
        "outputId": "e27bfa6f-9079-4965-e880-4d7853adebd3"
      },
      "execution_count": 15,
      "outputs": [
        {
          "output_type": "execute_result",
          "data": {
            "text/plain": [
              "(0.0, 221532.8)"
            ]
          },
          "metadata": {},
          "execution_count": 15
        }
      ]
    },
    {
      "cell_type": "code",
      "source": [
        "# Tenho valores de mínimo e máximo diferentes\n",
        "#Em especial no SVM, preciso que todas as variaveis estajam escaladas \n",
        "#Estejam dentro do mesmo intervalo de mínimo e máximo (média e desvio padrão parecidos)\n",
        "\n",
        "\n",
        "from sklearn.preprocessing import RobustScaler\n",
        "\n",
        "rs = RobustScaler(quantile_range=(5.,95.))\n",
        "X_train2 = rs.fit_transform(X_train)\n",
        "X_test2  = rs.transform(X_test)\n",
        "\n",
        "#Sempre nos dados de treino\n",
        "# * PASSO O FIT_TRANSFORM()\n",
        "\n",
        "#Sempre nos dados de teste\n",
        "# *PASSO APENAS TRANSFORM() -> Pq não devo ajustar os dados de teste, caso isso aconteça, meu modelo irá aprender com esses dados"
      ],
      "metadata": {
        "id": "JQk8AvUlns-M"
      },
      "execution_count": 5,
      "outputs": []
    },
    {
      "cell_type": "code",
      "source": [
        "#Sempre retornará uma matriz numpy\n",
        "X_train2\n",
        "\n",
        "#Transformando para pandas dataframe\n",
        "pd.DataFrame(X_train2, columns=X_train.columns)"
      ],
      "metadata": {
        "colab": {
          "base_uri": "https://localhost:8080/",
          "height": 488
        },
        "id": "1ZP36RFOpZCq",
        "outputId": "65ececb4-6eb5-4233-fe19-28636b51eb3c"
      },
      "execution_count": 18,
      "outputs": [
        {
          "output_type": "execute_result",
          "data": {
            "text/plain": [
              "      CreditScore       Age  Tenure   Balance  NumOfProducts  HasCrCard  \\\n",
              "0       -0.176471 -0.485714  -0.125 -0.006254            0.0        0.0   \n",
              "1        0.114551  0.742857  -0.500 -0.596042            1.0        0.0   \n",
              "2        0.501548 -0.171429  -0.500  0.135549            0.0        0.0   \n",
              "3        0.216718 -0.485714   0.125 -0.596042            1.0        0.0   \n",
              "4        0.266254 -0.542857  -0.125 -0.596042            1.0        0.0   \n",
              "...           ...       ...     ...       ...            ...        ...   \n",
              "6995    -0.086687 -0.057143  -0.625  0.513634            1.0        0.0   \n",
              "6996     0.185759  1.057143   0.000 -0.596042            1.0       -1.0   \n",
              "6997     0.046440  0.000000   0.500 -0.154230            1.0        0.0   \n",
              "6998     0.108359 -0.057143   0.375  0.025491            1.0        0.0   \n",
              "6999     0.464396  0.400000   0.250 -0.596042            0.0       -1.0   \n",
              "\n",
              "      IsActiveMember  EstimatedSalary  Geography_France  Geography_Germany  \\\n",
              "0               -1.0         0.438445               1.0                0.0   \n",
              "1                0.0         0.487196               0.0                0.0   \n",
              "2               -1.0         0.016610               1.0                0.0   \n",
              "3               -1.0         0.536906               1.0                0.0   \n",
              "4                0.0        -0.282451               1.0                0.0   \n",
              "...              ...              ...               ...                ...   \n",
              "6995            -1.0         0.359936               0.0                1.0   \n",
              "6996            -1.0         0.292462               0.0                0.0   \n",
              "6997             0.0        -0.171850               1.0                0.0   \n",
              "6998            -1.0        -0.424211               0.0                0.0   \n",
              "6999             0.0        -0.320972               0.0                0.0   \n",
              "\n",
              "      Geography_Spain  Gender_Female  Gender_Male  \n",
              "0                 0.0            0.0          0.0  \n",
              "1                 1.0            1.0         -1.0  \n",
              "2                 0.0            0.0          0.0  \n",
              "3                 0.0            0.0          0.0  \n",
              "4                 0.0            0.0          0.0  \n",
              "...               ...            ...          ...  \n",
              "6995              0.0            1.0         -1.0  \n",
              "6996              1.0            0.0          0.0  \n",
              "6997              0.0            1.0         -1.0  \n",
              "6998              1.0            0.0          0.0  \n",
              "6999              1.0            0.0          0.0  \n",
              "\n",
              "[7000 rows x 13 columns]"
            ],
            "text/html": [
              "\n",
              "  <div id=\"df-09676c9a-f611-429e-8ed8-24ebe550a0ca\">\n",
              "    <div class=\"colab-df-container\">\n",
              "      <div>\n",
              "<style scoped>\n",
              "    .dataframe tbody tr th:only-of-type {\n",
              "        vertical-align: middle;\n",
              "    }\n",
              "\n",
              "    .dataframe tbody tr th {\n",
              "        vertical-align: top;\n",
              "    }\n",
              "\n",
              "    .dataframe thead th {\n",
              "        text-align: right;\n",
              "    }\n",
              "</style>\n",
              "<table border=\"1\" class=\"dataframe\">\n",
              "  <thead>\n",
              "    <tr style=\"text-align: right;\">\n",
              "      <th></th>\n",
              "      <th>CreditScore</th>\n",
              "      <th>Age</th>\n",
              "      <th>Tenure</th>\n",
              "      <th>Balance</th>\n",
              "      <th>NumOfProducts</th>\n",
              "      <th>HasCrCard</th>\n",
              "      <th>IsActiveMember</th>\n",
              "      <th>EstimatedSalary</th>\n",
              "      <th>Geography_France</th>\n",
              "      <th>Geography_Germany</th>\n",
              "      <th>Geography_Spain</th>\n",
              "      <th>Gender_Female</th>\n",
              "      <th>Gender_Male</th>\n",
              "    </tr>\n",
              "  </thead>\n",
              "  <tbody>\n",
              "    <tr>\n",
              "      <th>0</th>\n",
              "      <td>-0.176471</td>\n",
              "      <td>-0.485714</td>\n",
              "      <td>-0.125</td>\n",
              "      <td>-0.006254</td>\n",
              "      <td>0.0</td>\n",
              "      <td>0.0</td>\n",
              "      <td>-1.0</td>\n",
              "      <td>0.438445</td>\n",
              "      <td>1.0</td>\n",
              "      <td>0.0</td>\n",
              "      <td>0.0</td>\n",
              "      <td>0.0</td>\n",
              "      <td>0.0</td>\n",
              "    </tr>\n",
              "    <tr>\n",
              "      <th>1</th>\n",
              "      <td>0.114551</td>\n",
              "      <td>0.742857</td>\n",
              "      <td>-0.500</td>\n",
              "      <td>-0.596042</td>\n",
              "      <td>1.0</td>\n",
              "      <td>0.0</td>\n",
              "      <td>0.0</td>\n",
              "      <td>0.487196</td>\n",
              "      <td>0.0</td>\n",
              "      <td>0.0</td>\n",
              "      <td>1.0</td>\n",
              "      <td>1.0</td>\n",
              "      <td>-1.0</td>\n",
              "    </tr>\n",
              "    <tr>\n",
              "      <th>2</th>\n",
              "      <td>0.501548</td>\n",
              "      <td>-0.171429</td>\n",
              "      <td>-0.500</td>\n",
              "      <td>0.135549</td>\n",
              "      <td>0.0</td>\n",
              "      <td>0.0</td>\n",
              "      <td>-1.0</td>\n",
              "      <td>0.016610</td>\n",
              "      <td>1.0</td>\n",
              "      <td>0.0</td>\n",
              "      <td>0.0</td>\n",
              "      <td>0.0</td>\n",
              "      <td>0.0</td>\n",
              "    </tr>\n",
              "    <tr>\n",
              "      <th>3</th>\n",
              "      <td>0.216718</td>\n",
              "      <td>-0.485714</td>\n",
              "      <td>0.125</td>\n",
              "      <td>-0.596042</td>\n",
              "      <td>1.0</td>\n",
              "      <td>0.0</td>\n",
              "      <td>-1.0</td>\n",
              "      <td>0.536906</td>\n",
              "      <td>1.0</td>\n",
              "      <td>0.0</td>\n",
              "      <td>0.0</td>\n",
              "      <td>0.0</td>\n",
              "      <td>0.0</td>\n",
              "    </tr>\n",
              "    <tr>\n",
              "      <th>4</th>\n",
              "      <td>0.266254</td>\n",
              "      <td>-0.542857</td>\n",
              "      <td>-0.125</td>\n",
              "      <td>-0.596042</td>\n",
              "      <td>1.0</td>\n",
              "      <td>0.0</td>\n",
              "      <td>0.0</td>\n",
              "      <td>-0.282451</td>\n",
              "      <td>1.0</td>\n",
              "      <td>0.0</td>\n",
              "      <td>0.0</td>\n",
              "      <td>0.0</td>\n",
              "      <td>0.0</td>\n",
              "    </tr>\n",
              "    <tr>\n",
              "      <th>...</th>\n",
              "      <td>...</td>\n",
              "      <td>...</td>\n",
              "      <td>...</td>\n",
              "      <td>...</td>\n",
              "      <td>...</td>\n",
              "      <td>...</td>\n",
              "      <td>...</td>\n",
              "      <td>...</td>\n",
              "      <td>...</td>\n",
              "      <td>...</td>\n",
              "      <td>...</td>\n",
              "      <td>...</td>\n",
              "      <td>...</td>\n",
              "    </tr>\n",
              "    <tr>\n",
              "      <th>6995</th>\n",
              "      <td>-0.086687</td>\n",
              "      <td>-0.057143</td>\n",
              "      <td>-0.625</td>\n",
              "      <td>0.513634</td>\n",
              "      <td>1.0</td>\n",
              "      <td>0.0</td>\n",
              "      <td>-1.0</td>\n",
              "      <td>0.359936</td>\n",
              "      <td>0.0</td>\n",
              "      <td>1.0</td>\n",
              "      <td>0.0</td>\n",
              "      <td>1.0</td>\n",
              "      <td>-1.0</td>\n",
              "    </tr>\n",
              "    <tr>\n",
              "      <th>6996</th>\n",
              "      <td>0.185759</td>\n",
              "      <td>1.057143</td>\n",
              "      <td>0.000</td>\n",
              "      <td>-0.596042</td>\n",
              "      <td>1.0</td>\n",
              "      <td>-1.0</td>\n",
              "      <td>-1.0</td>\n",
              "      <td>0.292462</td>\n",
              "      <td>0.0</td>\n",
              "      <td>0.0</td>\n",
              "      <td>1.0</td>\n",
              "      <td>0.0</td>\n",
              "      <td>0.0</td>\n",
              "    </tr>\n",
              "    <tr>\n",
              "      <th>6997</th>\n",
              "      <td>0.046440</td>\n",
              "      <td>0.000000</td>\n",
              "      <td>0.500</td>\n",
              "      <td>-0.154230</td>\n",
              "      <td>1.0</td>\n",
              "      <td>0.0</td>\n",
              "      <td>0.0</td>\n",
              "      <td>-0.171850</td>\n",
              "      <td>1.0</td>\n",
              "      <td>0.0</td>\n",
              "      <td>0.0</td>\n",
              "      <td>1.0</td>\n",
              "      <td>-1.0</td>\n",
              "    </tr>\n",
              "    <tr>\n",
              "      <th>6998</th>\n",
              "      <td>0.108359</td>\n",
              "      <td>-0.057143</td>\n",
              "      <td>0.375</td>\n",
              "      <td>0.025491</td>\n",
              "      <td>1.0</td>\n",
              "      <td>0.0</td>\n",
              "      <td>-1.0</td>\n",
              "      <td>-0.424211</td>\n",
              "      <td>0.0</td>\n",
              "      <td>0.0</td>\n",
              "      <td>1.0</td>\n",
              "      <td>0.0</td>\n",
              "      <td>0.0</td>\n",
              "    </tr>\n",
              "    <tr>\n",
              "      <th>6999</th>\n",
              "      <td>0.464396</td>\n",
              "      <td>0.400000</td>\n",
              "      <td>0.250</td>\n",
              "      <td>-0.596042</td>\n",
              "      <td>0.0</td>\n",
              "      <td>-1.0</td>\n",
              "      <td>0.0</td>\n",
              "      <td>-0.320972</td>\n",
              "      <td>0.0</td>\n",
              "      <td>0.0</td>\n",
              "      <td>1.0</td>\n",
              "      <td>0.0</td>\n",
              "      <td>0.0</td>\n",
              "    </tr>\n",
              "  </tbody>\n",
              "</table>\n",
              "<p>7000 rows × 13 columns</p>\n",
              "</div>\n",
              "      <button class=\"colab-df-convert\" onclick=\"convertToInteractive('df-09676c9a-f611-429e-8ed8-24ebe550a0ca')\"\n",
              "              title=\"Convert this dataframe to an interactive table.\"\n",
              "              style=\"display:none;\">\n",
              "        \n",
              "  <svg xmlns=\"http://www.w3.org/2000/svg\" height=\"24px\"viewBox=\"0 0 24 24\"\n",
              "       width=\"24px\">\n",
              "    <path d=\"M0 0h24v24H0V0z\" fill=\"none\"/>\n",
              "    <path d=\"M18.56 5.44l.94 2.06.94-2.06 2.06-.94-2.06-.94-.94-2.06-.94 2.06-2.06.94zm-11 1L8.5 8.5l.94-2.06 2.06-.94-2.06-.94L8.5 2.5l-.94 2.06-2.06.94zm10 10l.94 2.06.94-2.06 2.06-.94-2.06-.94-.94-2.06-.94 2.06-2.06.94z\"/><path d=\"M17.41 7.96l-1.37-1.37c-.4-.4-.92-.59-1.43-.59-.52 0-1.04.2-1.43.59L10.3 9.45l-7.72 7.72c-.78.78-.78 2.05 0 2.83L4 21.41c.39.39.9.59 1.41.59.51 0 1.02-.2 1.41-.59l7.78-7.78 2.81-2.81c.8-.78.8-2.07 0-2.86zM5.41 20L4 18.59l7.72-7.72 1.47 1.35L5.41 20z\"/>\n",
              "  </svg>\n",
              "      </button>\n",
              "      \n",
              "  <style>\n",
              "    .colab-df-container {\n",
              "      display:flex;\n",
              "      flex-wrap:wrap;\n",
              "      gap: 12px;\n",
              "    }\n",
              "\n",
              "    .colab-df-convert {\n",
              "      background-color: #E8F0FE;\n",
              "      border: none;\n",
              "      border-radius: 50%;\n",
              "      cursor: pointer;\n",
              "      display: none;\n",
              "      fill: #1967D2;\n",
              "      height: 32px;\n",
              "      padding: 0 0 0 0;\n",
              "      width: 32px;\n",
              "    }\n",
              "\n",
              "    .colab-df-convert:hover {\n",
              "      background-color: #E2EBFA;\n",
              "      box-shadow: 0px 1px 2px rgba(60, 64, 67, 0.3), 0px 1px 3px 1px rgba(60, 64, 67, 0.15);\n",
              "      fill: #174EA6;\n",
              "    }\n",
              "\n",
              "    [theme=dark] .colab-df-convert {\n",
              "      background-color: #3B4455;\n",
              "      fill: #D2E3FC;\n",
              "    }\n",
              "\n",
              "    [theme=dark] .colab-df-convert:hover {\n",
              "      background-color: #434B5C;\n",
              "      box-shadow: 0px 1px 3px 1px rgba(0, 0, 0, 0.15);\n",
              "      filter: drop-shadow(0px 1px 2px rgba(0, 0, 0, 0.3));\n",
              "      fill: #FFFFFF;\n",
              "    }\n",
              "  </style>\n",
              "\n",
              "      <script>\n",
              "        const buttonEl =\n",
              "          document.querySelector('#df-09676c9a-f611-429e-8ed8-24ebe550a0ca button.colab-df-convert');\n",
              "        buttonEl.style.display =\n",
              "          google.colab.kernel.accessAllowed ? 'block' : 'none';\n",
              "\n",
              "        async function convertToInteractive(key) {\n",
              "          const element = document.querySelector('#df-09676c9a-f611-429e-8ed8-24ebe550a0ca');\n",
              "          const dataTable =\n",
              "            await google.colab.kernel.invokeFunction('convertToInteractive',\n",
              "                                                     [key], {});\n",
              "          if (!dataTable) return;\n",
              "\n",
              "          const docLinkHtml = 'Like what you see? Visit the ' +\n",
              "            '<a target=\"_blank\" href=https://colab.research.google.com/notebooks/data_table.ipynb>data table notebook</a>'\n",
              "            + ' to learn more about interactive tables.';\n",
              "          element.innerHTML = '';\n",
              "          dataTable['output_type'] = 'display_data';\n",
              "          await google.colab.output.renderOutput(dataTable, element);\n",
              "          const docLink = document.createElement('div');\n",
              "          docLink.innerHTML = docLinkHtml;\n",
              "          element.appendChild(docLink);\n",
              "        }\n",
              "      </script>\n",
              "    </div>\n",
              "  </div>\n",
              "  "
            ]
          },
          "metadata": {},
          "execution_count": 18
        }
      ]
    },
    {
      "cell_type": "markdown",
      "source": [
        "# **Modelo de SVC, utilizando GridSearchCV**"
      ],
      "metadata": {
        "id": "_XxySMeXsOi1"
      }
    },
    {
      "cell_type": "code",
      "source": [
        "from sklearn.model_selection import GridSearchCV\n",
        "from sklearn.svm import SVC\n",
        "\n",
        "params = {\n",
        "    'C' : np.logspace(-7,7,10,base=2), #indicado procurar o parâmetro C em escala log\n",
        "    'class_weight' : [None, 'balanced'],\n",
        "\n",
        "}\n",
        "\n",
        "svc = SVC(kernel='linear', probability=True, random_state = 42)\n",
        "\n",
        "grid = GridSearchCV(svc, params, cv = 3, scoring = 'roc_auc', verbose = 10)\n",
        "\n",
        "grid.fit(X_train2, y_train)"
      ],
      "metadata": {
        "colab": {
          "base_uri": "https://localhost:8080/"
        },
        "id": "9agR3-Exqa1b",
        "outputId": "b0654641-a428-4616-da59-b9f10a66492b"
      },
      "execution_count": 6,
      "outputs": [
        {
          "output_type": "stream",
          "name": "stdout",
          "text": [
            "Fitting 3 folds for each of 20 candidates, totalling 60 fits\n",
            "[CV 1/3; 1/20] START C=0.0078125, class_weight=None.............................\n",
            "[CV 1/3; 1/20] END C=0.0078125, class_weight=None;, score=0.578 total time=   2.0s\n",
            "[CV 2/3; 1/20] START C=0.0078125, class_weight=None.............................\n",
            "[CV 2/3; 1/20] END C=0.0078125, class_weight=None;, score=0.562 total time=   1.9s\n",
            "[CV 3/3; 1/20] START C=0.0078125, class_weight=None.............................\n",
            "[CV 3/3; 1/20] END C=0.0078125, class_weight=None;, score=0.479 total time=   1.9s\n",
            "[CV 1/3; 2/20] START C=0.0078125, class_weight=balanced.........................\n",
            "[CV 1/3; 2/20] END C=0.0078125, class_weight=balanced;, score=0.740 total time=   4.6s\n",
            "[CV 2/3; 2/20] START C=0.0078125, class_weight=balanced.........................\n",
            "[CV 2/3; 2/20] END C=0.0078125, class_weight=balanced;, score=0.764 total time=   4.7s\n",
            "[CV 3/3; 2/20] START C=0.0078125, class_weight=balanced.........................\n",
            "[CV 3/3; 2/20] END C=0.0078125, class_weight=balanced;, score=0.748 total time=   4.7s\n",
            "[CV 1/3; 3/20] START C=0.022964601441806228, class_weight=None..................\n",
            "[CV 1/3; 3/20] END C=0.022964601441806228, class_weight=None;, score=0.553 total time=   1.8s\n",
            "[CV 2/3; 3/20] START C=0.022964601441806228, class_weight=None..................\n",
            "[CV 2/3; 3/20] END C=0.022964601441806228, class_weight=None;, score=0.586 total time=   1.8s\n",
            "[CV 3/3; 3/20] START C=0.022964601441806228, class_weight=None..................\n",
            "[CV 3/3; 3/20] END C=0.022964601441806228, class_weight=None;, score=0.509 total time=   1.9s\n",
            "[CV 1/3; 4/20] START C=0.022964601441806228, class_weight=balanced..............\n",
            "[CV 1/3; 4/20] END C=0.022964601441806228, class_weight=balanced;, score=0.744 total time=   4.3s\n",
            "[CV 2/3; 4/20] START C=0.022964601441806228, class_weight=balanced..............\n",
            "[CV 2/3; 4/20] END C=0.022964601441806228, class_weight=balanced;, score=0.772 total time=   4.5s\n",
            "[CV 3/3; 4/20] START C=0.022964601441806228, class_weight=balanced..............\n",
            "[CV 3/3; 4/20] END C=0.022964601441806228, class_weight=balanced;, score=0.756 total time=   4.5s\n",
            "[CV 1/3; 5/20] START C=0.06750373368076913, class_weight=None...................\n",
            "[CV 1/3; 5/20] END C=0.06750373368076913, class_weight=None;, score=0.635 total time=   1.8s\n",
            "[CV 2/3; 5/20] START C=0.06750373368076913, class_weight=None...................\n",
            "[CV 2/3; 5/20] END C=0.06750373368076913, class_weight=None;, score=0.605 total time=   1.8s\n",
            "[CV 3/3; 5/20] START C=0.06750373368076913, class_weight=None...................\n",
            "[CV 3/3; 5/20] END C=0.06750373368076913, class_weight=None;, score=0.599 total time=   1.8s\n",
            "[CV 1/3; 6/20] START C=0.06750373368076913, class_weight=balanced...............\n",
            "[CV 1/3; 6/20] END C=0.06750373368076913, class_weight=balanced;, score=0.745 total time=   4.1s\n",
            "[CV 2/3; 6/20] START C=0.06750373368076913, class_weight=balanced...............\n",
            "[CV 2/3; 6/20] END C=0.06750373368076913, class_weight=balanced;, score=0.775 total time=   4.3s\n",
            "[CV 3/3; 6/20] START C=0.06750373368076913, class_weight=balanced...............\n",
            "[CV 3/3; 6/20] END C=0.06750373368076913, class_weight=balanced;, score=0.756 total time=   4.2s\n",
            "[CV 1/3; 7/20] START C=0.19842513149602498, class_weight=None...................\n",
            "[CV 1/3; 7/20] END C=0.19842513149602498, class_weight=None;, score=0.595 total time=   1.8s\n",
            "[CV 2/3; 7/20] START C=0.19842513149602498, class_weight=None...................\n",
            "[CV 2/3; 7/20] END C=0.19842513149602498, class_weight=None;, score=0.580 total time=   1.8s\n",
            "[CV 3/3; 7/20] START C=0.19842513149602498, class_weight=None...................\n",
            "[CV 3/3; 7/20] END C=0.19842513149602498, class_weight=None;, score=0.619 total time=   1.8s\n",
            "[CV 1/3; 8/20] START C=0.19842513149602498, class_weight=balanced...............\n",
            "[CV 1/3; 8/20] END C=0.19842513149602498, class_weight=balanced;, score=0.745 total time=   4.0s\n",
            "[CV 2/3; 8/20] START C=0.19842513149602498, class_weight=balanced...............\n",
            "[CV 2/3; 8/20] END C=0.19842513149602498, class_weight=balanced;, score=0.776 total time=   4.2s\n",
            "[CV 3/3; 8/20] START C=0.19842513149602498, class_weight=balanced...............\n",
            "[CV 3/3; 8/20] END C=0.19842513149602498, class_weight=balanced;, score=0.757 total time=   4.1s\n",
            "[CV 1/3; 9/20] START C=0.5832645197880584, class_weight=None....................\n",
            "[CV 1/3; 9/20] END C=0.5832645197880584, class_weight=None;, score=0.679 total time=   1.9s\n",
            "[CV 2/3; 9/20] START C=0.5832645197880584, class_weight=None....................\n",
            "[CV 2/3; 9/20] END C=0.5832645197880584, class_weight=None;, score=0.572 total time=   1.8s\n",
            "[CV 3/3; 9/20] START C=0.5832645197880584, class_weight=None....................\n",
            "[CV 3/3; 9/20] END C=0.5832645197880584, class_weight=None;, score=0.485 total time=   1.8s\n",
            "[CV 1/3; 10/20] START C=0.5832645197880584, class_weight=balanced...............\n",
            "[CV 1/3; 10/20] END C=0.5832645197880584, class_weight=balanced;, score=0.745 total time=   4.2s\n",
            "[CV 2/3; 10/20] START C=0.5832645197880584, class_weight=balanced...............\n",
            "[CV 2/3; 10/20] END C=0.5832645197880584, class_weight=balanced;, score=0.776 total time=   4.5s\n",
            "[CV 3/3; 10/20] START C=0.5832645197880584, class_weight=balanced...............\n",
            "[CV 3/3; 10/20] END C=0.5832645197880584, class_weight=balanced;, score=0.757 total time=   4.4s\n",
            "[CV 1/3; 11/20] START C=1.7144879657061456, class_weight=None...................\n",
            "[CV 1/3; 11/20] END C=1.7144879657061456, class_weight=None;, score=0.494 total time=   2.1s\n",
            "[CV 2/3; 11/20] START C=1.7144879657061456, class_weight=None...................\n",
            "[CV 2/3; 11/20] END C=1.7144879657061456, class_weight=None;, score=0.599 total time=   2.1s\n",
            "[CV 3/3; 11/20] START C=1.7144879657061456, class_weight=None...................\n",
            "[CV 3/3; 11/20] END C=1.7144879657061456, class_weight=None;, score=0.542 total time=   2.1s\n",
            "[CV 1/3; 12/20] START C=1.7144879657061456, class_weight=balanced...............\n",
            "[CV 1/3; 12/20] END C=1.7144879657061456, class_weight=balanced;, score=0.745 total time=   4.9s\n",
            "[CV 2/3; 12/20] START C=1.7144879657061456, class_weight=balanced...............\n",
            "[CV 2/3; 12/20] END C=1.7144879657061456, class_weight=balanced;, score=0.776 total time=   5.0s\n",
            "[CV 3/3; 12/20] START C=1.7144879657061456, class_weight=balanced...............\n",
            "[CV 3/3; 12/20] END C=1.7144879657061456, class_weight=balanced;, score=0.757 total time=   5.0s\n",
            "[CV 1/3; 13/20] START C=5.0396841995794945, class_weight=None...................\n",
            "[CV 1/3; 13/20] END C=5.0396841995794945, class_weight=None;, score=0.702 total time=   2.4s\n",
            "[CV 2/3; 13/20] START C=5.0396841995794945, class_weight=None...................\n",
            "[CV 2/3; 13/20] END C=5.0396841995794945, class_weight=None;, score=0.638 total time=   2.2s\n",
            "[CV 3/3; 13/20] START C=5.0396841995794945, class_weight=None...................\n",
            "[CV 3/3; 13/20] END C=5.0396841995794945, class_weight=None;, score=0.617 total time=   2.3s\n",
            "[CV 1/3; 14/20] START C=5.0396841995794945, class_weight=balanced...............\n",
            "[CV 1/3; 14/20] END C=5.0396841995794945, class_weight=balanced;, score=0.745 total time=   6.0s\n",
            "[CV 2/3; 14/20] START C=5.0396841995794945, class_weight=balanced...............\n",
            "[CV 2/3; 14/20] END C=5.0396841995794945, class_weight=balanced;, score=0.776 total time=   6.0s\n",
            "[CV 3/3; 14/20] START C=5.0396841995794945, class_weight=balanced...............\n",
            "[CV 3/3; 14/20] END C=5.0396841995794945, class_weight=balanced;, score=0.757 total time=   6.0s\n",
            "[CV 1/3; 15/20] START C=14.81399539659665, class_weight=None....................\n",
            "[CV 1/3; 15/20] END C=14.81399539659665, class_weight=None;, score=0.648 total time=   3.3s\n",
            "[CV 2/3; 15/20] START C=14.81399539659665, class_weight=None....................\n",
            "[CV 2/3; 15/20] END C=14.81399539659665, class_weight=None;, score=0.644 total time=   3.1s\n",
            "[CV 3/3; 15/20] START C=14.81399539659665, class_weight=None....................\n",
            "[CV 3/3; 15/20] END C=14.81399539659665, class_weight=None;, score=0.657 total time=   3.2s\n",
            "[CV 1/3; 16/20] START C=14.81399539659665, class_weight=balanced................\n",
            "[CV 1/3; 16/20] END C=14.81399539659665, class_weight=balanced;, score=0.745 total time=   8.5s\n",
            "[CV 2/3; 16/20] START C=14.81399539659665, class_weight=balanced................\n",
            "[CV 2/3; 16/20] END C=14.81399539659665, class_weight=balanced;, score=0.776 total time=   8.7s\n",
            "[CV 3/3; 16/20] START C=14.81399539659665, class_weight=balanced................\n",
            "[CV 3/3; 16/20] END C=14.81399539659665, class_weight=balanced;, score=0.757 total time=   8.4s\n",
            "[CV 1/3; 17/20] START C=43.54528000558007, class_weight=None....................\n",
            "[CV 1/3; 17/20] END C=43.54528000558007, class_weight=None;, score=0.664 total time=   5.5s\n",
            "[CV 2/3; 17/20] START C=43.54528000558007, class_weight=None....................\n",
            "[CV 2/3; 17/20] END C=43.54528000558007, class_weight=None;, score=0.517 total time=   5.6s\n",
            "[CV 3/3; 17/20] START C=43.54528000558007, class_weight=None....................\n",
            "[CV 3/3; 17/20] END C=43.54528000558007, class_weight=None;, score=0.567 total time=   5.2s\n",
            "[CV 1/3; 18/20] START C=43.54528000558007, class_weight=balanced................\n",
            "[CV 1/3; 18/20] END C=43.54528000558007, class_weight=balanced;, score=0.745 total time=  13.7s\n",
            "[CV 2/3; 18/20] START C=43.54528000558007, class_weight=balanced................\n",
            "[CV 2/3; 18/20] END C=43.54528000558007, class_weight=balanced;, score=0.776 total time=  13.8s\n",
            "[CV 3/3; 18/20] START C=43.54528000558007, class_weight=balanced................\n",
            "[CV 3/3; 18/20] END C=43.54528000558007, class_weight=balanced;, score=0.757 total time=  13.9s\n",
            "[CV 1/3; 19/20] START C=128.0, class_weight=None................................\n",
            "[CV 1/3; 19/20] END .C=128.0, class_weight=None;, score=0.704 total time=12.5min\n",
            "[CV 2/3; 19/20] START C=128.0, class_weight=None................................\n",
            "[CV 2/3; 19/20] END .C=128.0, class_weight=None;, score=0.743 total time=14.4min\n",
            "[CV 3/3; 19/20] START C=128.0, class_weight=None................................\n",
            "[CV 3/3; 19/20] END .C=128.0, class_weight=None;, score=0.735 total time=13.7min\n",
            "[CV 1/3; 20/20] START C=128.0, class_weight=balanced............................\n",
            "[CV 1/3; 20/20] END C=128.0, class_weight=balanced;, score=0.745 total time=  27.4s\n",
            "[CV 2/3; 20/20] START C=128.0, class_weight=balanced............................\n",
            "[CV 2/3; 20/20] END C=128.0, class_weight=balanced;, score=0.776 total time=  26.9s\n",
            "[CV 3/3; 20/20] START C=128.0, class_weight=balanced............................\n",
            "[CV 3/3; 20/20] END C=128.0, class_weight=balanced;, score=0.757 total time=  27.4s\n"
          ]
        },
        {
          "output_type": "execute_result",
          "data": {
            "text/plain": [
              "GridSearchCV(cv=3,\n",
              "             estimator=SVC(kernel='linear', probability=True, random_state=42),\n",
              "             param_grid={'C': array([7.81250000e-03, 2.29646014e-02, 6.75037337e-02, 1.98425131e-01,\n",
              "       5.83264520e-01, 1.71448797e+00, 5.03968420e+00, 1.48139954e+01,\n",
              "       4.35452800e+01, 1.28000000e+02]),\n",
              "                         'class_weight': [None, 'balanced']},\n",
              "             scoring='roc_auc', verbose=10)"
            ]
          },
          "metadata": {},
          "execution_count": 6
        }
      ]
    },
    {
      "cell_type": "code",
      "source": [
        "grid.best_params_"
      ],
      "metadata": {
        "colab": {
          "base_uri": "https://localhost:8080/"
        },
        "id": "J6vEqxNdsNgW",
        "outputId": "1e0d8ddb-404f-42fb-c274-54d3861b07e9"
      },
      "execution_count": 7,
      "outputs": [
        {
          "output_type": "execute_result",
          "data": {
            "text/plain": [
              "{'C': 5.0396841995794945, 'class_weight': 'balanced'}"
            ]
          },
          "metadata": {},
          "execution_count": 7
        }
      ]
    },
    {
      "cell_type": "markdown",
      "source": [
        "# **Métricas**"
      ],
      "metadata": {
        "id": "E0zmJuSexz3d"
      }
    },
    {
      "cell_type": "code",
      "source": [
        "from sklearn.metrics import roc_curve, roc_auc_score\n",
        "\n",
        "print(roc_auc_score(y_test, grid.predict_proba(X_test2)[:,1]))\n",
        "fpr, tpr, tns = roc_curve(y_test, grid.predict_proba(X_test2)[:,1])\n",
        "plt.figure(figsize=(8,8))\n",
        "plt.plot(fpr,tpr)\n",
        "plt.xlim(0,1)\n",
        "plt.ylim(0,1)\n",
        "plt.plot((0,1),(0,1), 'k:')\n",
        "plt.grid();"
      ],
      "metadata": {
        "colab": {
          "base_uri": "https://localhost:8080/",
          "height": 504
        },
        "id": "kzHcVXPVtXXl",
        "outputId": "5ce46e7b-7390-4337-9d12-d651006754c0"
      },
      "execution_count": 8,
      "outputs": [
        {
          "output_type": "stream",
          "name": "stdout",
          "text": [
            "0.7936885438510796\n"
          ]
        },
        {
          "output_type": "display_data",
          "data": {
            "text/plain": [
              "<Figure size 576x576 with 1 Axes>"
            ],
            "image/png": "[encoded data removed]"
          },
          "metadata": {
            "needs_background": "light"
          }
        }
      ]
    },
    {
      "cell_type": "code",
      "source": [
        "pred = grid.predict_proba(X_test2)[:,1]\n",
        "pred"
      ],
      "metadata": {
        "colab": {
          "base_uri": "https://localhost:8080/"
        },
        "id": "LRzF-hBquQXu",
        "outputId": "85038725-7a08-4c01-814d-f74d401aeba6"
      },
      "execution_count": 9,
      "outputs": [
        {
          "output_type": "execute_result",
          "data": {
            "text/plain": [
              "array([0.06247718, 0.14232173, 0.20902671, ..., 0.35746884, 0.21928011,\n",
              "       0.05159945])"
            ]
          },
          "metadata": {},
          "execution_count": 9
        }
      ]
    },
    {
      "cell_type": "code",
      "source": [
        "plt.figure(figsize=(10,5))\n",
        "plt.hist(pred[y_test==0], color = 'blue', density = True, alpha = 0.3, rwidth = 0.8, bins = np.linspace(0,1,40))\n",
        "plt.hist(pred[y_test==1], color = 'red', density = True, alpha = 0.3, rwidth = 0.8, bins = np.linspace(0,1,40));"
      ],
      "metadata": {
        "colab": {
          "base_uri": "https://localhost:8080/",
          "height": 320
        },
        "id": "b8WCSSJtu4Jg",
        "outputId": "b243c230-cea2-4e19-9a71-4e6e53ac0927"
      },
      "execution_count": 10,
      "outputs": [
        {
          "output_type": "display_data",
          "data": {
            "text/plain": [
              "<Figure size 720x360 with 1 Axes>"
            ],
            "image/png": "[encoded data removed]"
          },
          "metadata": {
            "needs_background": "light"
          }
        }
      ]
    }
  ]
}