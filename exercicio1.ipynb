{
  "nbformat": 4,
  "nbformat_minor": 0,
  "metadata": {
    "colab": {
      "name": "exercicio1.ipynb",
      "provenance": [],
      "authorship_tag": "ABX9TyPgv2KmupsaVwQnfkVn1fHr",
      "include_colab_link": true
    },
    "kernelspec": {
      "name": "python3",
      "display_name": "Python 3"
    },
    "language_info": {
      "name": "python"
    }
  },
  "cells": [
    {
      "cell_type": "markdown",
      "metadata": {
        "id": "view-in-github",
        "colab_type": "text"
      },
      "source": [
        "<a href=\"https://colab.research.google.com/github/Henriquerezer/FLAI-Curso_python_para_data_science/blob/main/exercicio1.ipynb\" target=\"_parent\"><img src=\"https://colab.research.google.com/assets/colab-badge.svg\" alt=\"Open In Colab\"/></a>"
      ]
    },
    {
      "cell_type": "code",
      "execution_count": null,
      "metadata": {
        "id": "kbRzMFprBrTT"
      },
      "outputs": [],
      "source": [
        "from math import pi\n",
        "\n",
        "\n",
        "\n",
        "\n",
        "def Verificadora(r_1, r_2):\n",
        "  if r_1 <= 0:\n",
        "    print('O Valor do raio do balde é inadequado!')\n",
        "  elif r_2 <= 0:\n",
        "    print('O valor do raio da esfera é inadequado!')\n",
        "  else:\n",
        "    vol_balde = 2*pi*r_1**3\n",
        "    vol_esfera = (4/3)*pi*r_2**2\n",
        "\n",
        "    if vol_balde < vol_esfera:\n",
        "      print('O volume da esfera NÃO cabe no balde')\n",
        "    else:\n",
        "      print('O volume da esfera CABE no balde')"
      ]
    },
    {
      "cell_type": "code",
      "source": [
        "Verificadora(1,1)"
      ],
      "metadata": {
        "colab": {
          "base_uri": "https://localhost:8080/"
        },
        "id": "6D1ksBqZDyk7",
        "outputId": "5563ecff-47f7-4536-8634-1c7a1c39bf4f"
      },
      "execution_count": null,
      "outputs": [
        {
          "output_type": "stream",
          "name": "stdout",
          "text": [
            "O volume da esfera CABE no balde\n"
          ]
        }
      ]
    }
  ]
}