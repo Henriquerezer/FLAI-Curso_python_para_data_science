{
  "nbformat": 4,
  "nbformat_minor": 0,
  "metadata": {
    "colab": {
      "name": "exercicio2.ipynb",
      "provenance": [],
      "collapsed_sections": [],
      "authorship_tag": "ABX9TyNSVOfvhpLEHyssm2WMGFI+",
      "include_colab_link": true
    },
    "kernelspec": {
      "name": "python3",
      "display_name": "Python 3"
    },
    "language_info": {
      "name": "python"
    }
  },
  "cells": [
    {
      "cell_type": "markdown",
      "metadata": {
        "id": "view-in-github",
        "colab_type": "text"
      },
      "source": [
        "<a href=\"https://colab.research.google.com/github/Henriquerezer/FLAI-Curso_python_para_data_science/blob/main/exercicio2.ipynb\" target=\"_parent\"><img src=\"https://colab.research.google.com/assets/colab-badge.svg\" alt=\"Open In Colab\"/></a>"
      ]
    },
    {
      "cell_type": "code",
      "execution_count": null,
      "metadata": {
        "id": "Lmeci_uw-XOT"
      },
      "outputs": [],
      "source": [
        "def jokenpo(j1, j2):\n",
        "  jogador1 = j1.lower()\n",
        "  jogador2 = j2.lower()  \n",
        "\n",
        "\n",
        "  if jogador1 == 'pedra':\n",
        "    if jogador2 == 'tesoura':\n",
        "       print('jogador 1 ganhou')\n",
        "    elif jogador2 =='papel':\n",
        "       print('Jogador 2 ganhou')\n",
        "    else:\n",
        "        print('EMPATE')\n",
        "\n",
        "  if jogador1 == 'papel':\n",
        "    if jogador2 == 'pedra':\n",
        "      print('jogador 1 ganhou')\n",
        "    elif jogador2 =='tesoura':\n",
        "      print('Jogador 2 ganhou')\n",
        "    else:\n",
        "      print('EMPATE')\n",
        "\n",
        "  if jogador1 == 'tesoura':\n",
        "    if jogador2 == 'papel':\n",
        "      print('jogador 1 ganhou')\n",
        "    elif jogador2 =='pedra':\n",
        "      print('Jogador 2 ganhou')\n",
        "    else:\n",
        "      print('EMPATE')\n",
        "\n",
        "    "
      ]
    },
    {
      "cell_type": "code",
      "source": [
        "jokenpo('papel','pedra')"
      ],
      "metadata": {
        "colab": {
          "base_uri": "https://localhost:8080/"
        },
        "id": "uvWTvh7FAtp-",
        "outputId": "538d4d53-4503-4b9f-9154-c2cd712a9228"
      },
      "execution_count": null,
      "outputs": [
        {
          "output_type": "stream",
          "name": "stdout",
          "text": [
            "jogador 1 ganhou\n"
          ]
        }
      ]
    }
  ]
}