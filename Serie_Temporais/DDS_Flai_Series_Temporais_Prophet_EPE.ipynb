{
  "nbformat": 4,
  "nbformat_minor": 0,
  "metadata": {
    "colab": {
      "name": "DDS_Flai_Series_Temporais_Prophet_EPE.ipynb",
      "provenance": [],
      "collapsed_sections": [
        "3oAsb1E2abxd",
        "VLaLpW0IkBc6",
        "Hw9LHHQblPBg",
        "avsPd5o0YkN_",
        "A8CeLPCtY5k_",
        "zvKWnpBE1e7k",
        "T2EixEV4FWmm",
        "Bd80yzGJFxAW",
        "6HE-v2tSfgJa",
        "wPqZs3duQsbV",
        "_Erailj6DPOV",
        "c70uMNogQ1RG",
        "9laL7z2gQUtI"
      ]
    },
    "kernelspec": {
      "name": "python3",
      "display_name": "Python 3"
    },
    "language_info": {
      "name": "python"
    }
  },
  "cells": [
    {
      "cell_type": "markdown",
      "source": [
        "![banner flai.jpg](data:image/jpeg;base64,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)"
      ],
      "metadata": {
        "id": "eiyKZ_22EPzl"
      }
    },
    {
      "cell_type": "markdown",
      "source": [
        "# **Previsão de Séries Temporais com Prophet**"
      ],
      "metadata": {
        "id": "as6tLI6jYyMk"
      }
    },
    {
      "cell_type": "markdown",
      "source": [
        "![image.png](data:image/png;base64,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)"
      ],
      "metadata": {
        "id": "9m495jrSY-rD"
      }
    },
    {
      "cell_type": "markdown",
      "source": [
        "Framework desenvolvido em 2017 pelo FACEBOOK para previsão de Séries Temporais, em que, os autores do modelo de previsão Prophet se basearam na decomposição de uma série temporal y(t) em 4 componentes Tendência, Sazonalidade, Feriados e Erro: $y(t) = g(t) + s(t) + h(t) + \\epsilon(t)$\n",
        "\n",
        "- $g(t)$ é a função de tendência que modela mudanças não periódicas no valor da\n",
        "série temporal;\n",
        "\n",
        "- $s(t)$ representa mudanças periódicas (por exemplo, sazonalidade semanal e anual);\n",
        "\n",
        "- $h(t)$ representa os efeitos dos feriados que ocorrem em horários potencialmente irregulares ao longo de um ou mais dias. \n",
        "\n",
        "- $\\epsilon(t)$ representa quaisquer mudanças idiossincráticas que não são acomodadas pelo modelo.\n",
        "\n",
        "O artigo que apresenta toda teoria do modelo de previsão do Prophet pode ser lido no  link https://peerj.com/preprints/3190v2/.\n"
      ],
      "metadata": {
        "id": "R7uv9VxoY_vi"
      }
    },
    {
      "cell_type": "markdown",
      "source": [
        "# **Consumo de eletricidade no setor residencial - Empresa de Pesquisa Energética do Brasil (1970 a 2021)**"
      ],
      "metadata": {
        "id": "3oAsb1E2abxd"
      }
    },
    {
      "cell_type": "markdown",
      "source": [
        "## **Pré-Processamento**"
      ],
      "metadata": {
        "id": "VLaLpW0IkBc6"
      }
    },
    {
      "cell_type": "markdown",
      "source": [
        "### **Preparando o ambiente**"
      ],
      "metadata": {
        "id": "Hw9LHHQblPBg"
      }
    },
    {
      "cell_type": "code",
      "source": [
        "# Importando biblioteca necessária\n",
        "import pandas as pd\n",
        "import numpy as np\n",
        "from fbprophet import Prophet"
      ],
      "metadata": {
        "id": "SuBKicAPlUGP"
      },
      "execution_count": 1,
      "outputs": []
    },
    {
      "cell_type": "markdown",
      "source": [
        "### **Carregando o conjunto de dados - Empresa de Pesquisa Energética (EPE)**"
      ],
      "metadata": {
        "id": "avsPd5o0YkN_"
      }
    },
    {
      "cell_type": "markdown",
      "source": [
        "https://www.epe.gov.br/pt/publicacoes-dados-abertos/publicacoes/BEN-Series-Historicas-Completas"
      ],
      "metadata": {
        "id": "zAfw9JQLYx9n"
      }
    },
    {
      "cell_type": "code",
      "source": [
        "# Importando o Pandas\n",
        "import pandas as pd"
      ],
      "metadata": {
        "id": "1Vt-NzCaYkOA"
      },
      "execution_count": 2,
      "outputs": []
    },
    {
      "cell_type": "code",
      "source": [
        "# Importando o conjunto de dados do consumo de energia elétrica\n",
        "epe = pd.read_csv(\n",
        "    filepath_or_buffer = 'https://raw.githubusercontent.com/jonates/opendata/master/EPE/epe_consumo_residencial.csv', \n",
        "    sep=';',\n",
        "    decimal=','\n",
        ")"
      ],
      "metadata": {
        "id": "Zuh0f-jSYkOA"
      },
      "execution_count": 3,
      "outputs": []
    },
    {
      "cell_type": "markdown",
      "source": [
        "### **Espiando a estrutura dos dados**"
      ],
      "metadata": {
        "id": "A8CeLPCtY5k_"
      }
    },
    {
      "cell_type": "code",
      "source": [
        "# Espiando o conjunto de dados\n",
        "epe.head(5)"
      ],
      "metadata": {
        "colab": {
          "base_uri": "https://localhost:8080/",
          "height": 0
        },
        "outputId": "0c47d702-1482-4d07-9c19-06e13cf0745c",
        "id": "1rdlclrHY5k_"
      },
      "execution_count": 4,
      "outputs": [
        {
          "output_type": "execute_result",
          "data": {
            "text/plain": [
              "    ano  gas_natural         lenha  gas_liquefeito_de_petroleo   querosene  \\\n",
              "0  1970            0  19070.388792                 1297.406214  447.380478   \n",
              "1  1971            0  19058.303628                 1393.237355  419.521621   \n",
              "2  1972            0  18998.187684                 1526.540929  427.715402   \n",
              "3  1973            0  18593.489628                 1677.659267  466.226176   \n",
              "4  1974            0  18376.886304                 1775.333314  403.953435   \n",
              "\n",
              "   gas_canalizado  eletricidade  \n",
              "0      104.218296    719.390000  \n",
              "1      105.947604    793.608000  \n",
              "2      106.397424    854.152000  \n",
              "3      109.716096    940.721561  \n",
              "4      116.353440   1033.720000  "
            ],
            "text/html": [
              "\n",
              "  <div id=\"df-0da7b33c-18cd-480b-875a-6f9e8a521d6d\">\n",
              "    <div class=\"colab-df-container\">\n",
              "      <div>\n",
              "<style scoped>\n",
              "    .dataframe tbody tr th:only-of-type {\n",
              "        vertical-align: middle;\n",
              "    }\n",
              "\n",
              "    .dataframe tbody tr th {\n",
              "        vertical-align: top;\n",
              "    }\n",
              "\n",
              "    .dataframe thead th {\n",
              "        text-align: right;\n",
              "    }\n",
              "</style>\n",
              "<table border=\"1\" class=\"dataframe\">\n",
              "  <thead>\n",
              "    <tr style=\"text-align: right;\">\n",
              "      <th></th>\n",
              "      <th>ano</th>\n",
              "      <th>gas_natural</th>\n",
              "      <th>lenha</th>\n",
              "      <th>gas_liquefeito_de_petroleo</th>\n",
              "      <th>querosene</th>\n",
              "      <th>gas_canalizado</th>\n",
              "      <th>eletricidade</th>\n",
              "    </tr>\n",
              "  </thead>\n",
              "  <tbody>\n",
              "    <tr>\n",
              "      <th>0</th>\n",
              "      <td>1970</td>\n",
              "      <td>0</td>\n",
              "      <td>19070.388792</td>\n",
              "      <td>1297.406214</td>\n",
              "      <td>447.380478</td>\n",
              "      <td>104.218296</td>\n",
              "      <td>719.390000</td>\n",
              "    </tr>\n",
              "    <tr>\n",
              "      <th>1</th>\n",
              "      <td>1971</td>\n",
              "      <td>0</td>\n",
              "      <td>19058.303628</td>\n",
              "      <td>1393.237355</td>\n",
              "      <td>419.521621</td>\n",
              "      <td>105.947604</td>\n",
              "      <td>793.608000</td>\n",
              "    </tr>\n",
              "    <tr>\n",
              "      <th>2</th>\n",
              "      <td>1972</td>\n",
              "      <td>0</td>\n",
              "      <td>18998.187684</td>\n",
              "      <td>1526.540929</td>\n",
              "      <td>427.715402</td>\n",
              "      <td>106.397424</td>\n",
              "      <td>854.152000</td>\n",
              "    </tr>\n",
              "    <tr>\n",
              "      <th>3</th>\n",
              "      <td>1973</td>\n",
              "      <td>0</td>\n",
              "      <td>18593.489628</td>\n",
              "      <td>1677.659267</td>\n",
              "      <td>466.226176</td>\n",
              "      <td>109.716096</td>\n",
              "      <td>940.721561</td>\n",
              "    </tr>\n",
              "    <tr>\n",
              "      <th>4</th>\n",
              "      <td>1974</td>\n",
              "      <td>0</td>\n",
              "      <td>18376.886304</td>\n",
              "      <td>1775.333314</td>\n",
              "      <td>403.953435</td>\n",
              "      <td>116.353440</td>\n",
              "      <td>1033.720000</td>\n",
              "    </tr>\n",
              "  </tbody>\n",
              "</table>\n",
              "</div>\n",
              "      <button class=\"colab-df-convert\" onclick=\"convertToInteractive('df-0da7b33c-18cd-480b-875a-6f9e8a521d6d')\"\n",
              "              title=\"Convert this dataframe to an interactive table.\"\n",
              "              style=\"display:none;\">\n",
              "        \n",
              "  <svg xmlns=\"http://www.w3.org/2000/svg\" height=\"24px\"viewBox=\"0 0 24 24\"\n",
              "       width=\"24px\">\n",
              "    <path d=\"M0 0h24v24H0V0z\" fill=\"none\"/>\n",
              "    <path d=\"M18.56 5.44l.94 2.06.94-2.06 2.06-.94-2.06-.94-.94-2.06-.94 2.06-2.06.94zm-11 1L8.5 8.5l.94-2.06 2.06-.94-2.06-.94L8.5 2.5l-.94 2.06-2.06.94zm10 10l.94 2.06.94-2.06 2.06-.94-2.06-.94-.94-2.06-.94 2.06-2.06.94z\"/><path d=\"M17.41 7.96l-1.37-1.37c-.4-.4-.92-.59-1.43-.59-.52 0-1.04.2-1.43.59L10.3 9.45l-7.72 7.72c-.78.78-.78 2.05 0 2.83L4 21.41c.39.39.9.59 1.41.59.51 0 1.02-.2 1.41-.59l7.78-7.78 2.81-2.81c.8-.78.8-2.07 0-2.86zM5.41 20L4 18.59l7.72-7.72 1.47 1.35L5.41 20z\"/>\n",
              "  </svg>\n",
              "      </button>\n",
              "      \n",
              "  <style>\n",
              "    .colab-df-container {\n",
              "      display:flex;\n",
              "      flex-wrap:wrap;\n",
              "      gap: 12px;\n",
              "    }\n",
              "\n",
              "    .colab-df-convert {\n",
              "      background-color: #E8F0FE;\n",
              "      border: none;\n",
              "      border-radius: 50%;\n",
              "      cursor: pointer;\n",
              "      display: none;\n",
              "      fill: #1967D2;\n",
              "      height: 32px;\n",
              "      padding: 0 0 0 0;\n",
              "      width: 32px;\n",
              "    }\n",
              "\n",
              "    .colab-df-convert:hover {\n",
              "      background-color: #E2EBFA;\n",
              "      box-shadow: 0px 1px 2px rgba(60, 64, 67, 0.3), 0px 1px 3px 1px rgba(60, 64, 67, 0.15);\n",
              "      fill: #174EA6;\n",
              "    }\n",
              "\n",
              "    [theme=dark] .colab-df-convert {\n",
              "      background-color: #3B4455;\n",
              "      fill: #D2E3FC;\n",
              "    }\n",
              "\n",
              "    [theme=dark] .colab-df-convert:hover {\n",
              "      background-color: #434B5C;\n",
              "      box-shadow: 0px 1px 3px 1px rgba(0, 0, 0, 0.15);\n",
              "      filter: drop-shadow(0px 1px 2px rgba(0, 0, 0, 0.3));\n",
              "      fill: #FFFFFF;\n",
              "    }\n",
              "  </style>\n",
              "\n",
              "      <script>\n",
              "        const buttonEl =\n",
              "          document.querySelector('#df-0da7b33c-18cd-480b-875a-6f9e8a521d6d button.colab-df-convert');\n",
              "        buttonEl.style.display =\n",
              "          google.colab.kernel.accessAllowed ? 'block' : 'none';\n",
              "\n",
              "        async function convertToInteractive(key) {\n",
              "          const element = document.querySelector('#df-0da7b33c-18cd-480b-875a-6f9e8a521d6d');\n",
              "          const dataTable =\n",
              "            await google.colab.kernel.invokeFunction('convertToInteractive',\n",
              "                                                     [key], {});\n",
              "          if (!dataTable) return;\n",
              "\n",
              "          const docLinkHtml = 'Like what you see? Visit the ' +\n",
              "            '<a target=\"_blank\" href=https://colab.research.google.com/notebooks/data_table.ipynb>data table notebook</a>'\n",
              "            + ' to learn more about interactive tables.';\n",
              "          element.innerHTML = '';\n",
              "          dataTable['output_type'] = 'display_data';\n",
              "          await google.colab.output.renderOutput(dataTable, element);\n",
              "          const docLink = document.createElement('div');\n",
              "          docLink.innerHTML = docLinkHtml;\n",
              "          element.appendChild(docLink);\n",
              "        }\n",
              "      </script>\n",
              "    </div>\n",
              "  </div>\n",
              "  "
            ]
          },
          "metadata": {},
          "execution_count": 4
        }
      ]
    },
    {
      "cell_type": "code",
      "source": [
        "# Informacoes gerais do conjunto de dados\n",
        "epe.info(verbose = True)"
      ],
      "metadata": {
        "colab": {
          "base_uri": "https://localhost:8080/"
        },
        "outputId": "3dcbf246-22c0-4546-beb5-51ba05f7cb9e",
        "id": "cUTQgVsGY5lA"
      },
      "execution_count": 5,
      "outputs": [
        {
          "output_type": "stream",
          "name": "stdout",
          "text": [
            "<class 'pandas.core.frame.DataFrame'>\n",
            "RangeIndex: 52 entries, 0 to 51\n",
            "Data columns (total 7 columns):\n",
            " #   Column                      Non-Null Count  Dtype  \n",
            "---  ------                      --------------  -----  \n",
            " 0   ano                         52 non-null     int64  \n",
            " 1   gas_natural                 52 non-null     int64  \n",
            " 2   lenha                       52 non-null     float64\n",
            " 3   gas_liquefeito_de_petroleo  52 non-null     float64\n",
            " 4   querosene                   52 non-null     float64\n",
            " 5   gas_canalizado              52 non-null     float64\n",
            " 6   eletricidade                52 non-null     float64\n",
            "dtypes: float64(5), int64(2)\n",
            "memory usage: 3.0 KB\n"
          ]
        }
      ]
    },
    {
      "cell_type": "markdown",
      "source": [
        "## **Previsão com Prophet**"
      ],
      "metadata": {
        "id": "zvKWnpBE1e7k"
      }
    },
    {
      "cell_type": "markdown",
      "source": [
        "https://facebook.github.io/prophet/"
      ],
      "metadata": {
        "id": "aX-VtvAR1sWJ"
      }
    },
    {
      "cell_type": "markdown",
      "source": [
        "Esse framework da Facebook para previsão de séries temporais exige que os dados de entrada seja um dataframe com duas colunas:\n",
        "- **ds**: que significa (datastamp) deve ter um formato de datetime esperado pelo Pandas, preferencialmente no formato AAAA-MM-DD se for somente a data ou AAAA-MM-DD HH:MM:SS se for data e hora. \n",
        "-**y**: deve ter os dados observados nas datas e que se pretende prever, e ser numérica."
      ],
      "metadata": {
        "id": "biqBbH_h2FHM"
      }
    },
    {
      "cell_type": "markdown",
      "source": [
        "### **Transformando o conjunto de dados**"
      ],
      "metadata": {
        "id": "T2EixEV4FWmm"
      }
    },
    {
      "cell_type": "code",
      "source": [
        "st_eletricidade = pd.DataFrame(\n",
        "    data = {\n",
        "      'ds': pd.date_range(start=\"1970-12-31\",end=\"2021-12-31\",  freq='A'), \n",
        "      'y':epe['eletricidade'].values\n",
        "    }\n",
        ")\n"
      ],
      "metadata": {
        "id": "AVM79VzG65je"
      },
      "execution_count": 6,
      "outputs": []
    },
    {
      "cell_type": "code",
      "source": [
        "# Espiando o resultado\n",
        "st_eletricidade.head()"
      ],
      "metadata": {
        "colab": {
          "base_uri": "https://localhost:8080/",
          "height": 206
        },
        "id": "bk9szrmw7B4E",
        "outputId": "da4f4ed0-782d-425b-a613-1f890fd4cf22"
      },
      "execution_count": 7,
      "outputs": [
        {
          "output_type": "execute_result",
          "data": {
            "text/plain": [
              "          ds            y\n",
              "0 1970-12-31   719.390000\n",
              "1 1971-12-31   793.608000\n",
              "2 1972-12-31   854.152000\n",
              "3 1973-12-31   940.721561\n",
              "4 1974-12-31  1033.720000"
            ],
            "text/html": [
              "\n",
              "  <div id=\"df-98080240-62fc-4f6d-ac8b-c09b4e565663\">\n",
              "    <div class=\"colab-df-container\">\n",
              "      <div>\n",
              "<style scoped>\n",
              "    .dataframe tbody tr th:only-of-type {\n",
              "        vertical-align: middle;\n",
              "    }\n",
              "\n",
              "    .dataframe tbody tr th {\n",
              "        vertical-align: top;\n",
              "    }\n",
              "\n",
              "    .dataframe thead th {\n",
              "        text-align: right;\n",
              "    }\n",
              "</style>\n",
              "<table border=\"1\" class=\"dataframe\">\n",
              "  <thead>\n",
              "    <tr style=\"text-align: right;\">\n",
              "      <th></th>\n",
              "      <th>ds</th>\n",
              "      <th>y</th>\n",
              "    </tr>\n",
              "  </thead>\n",
              "  <tbody>\n",
              "    <tr>\n",
              "      <th>0</th>\n",
              "      <td>1970-12-31</td>\n",
              "      <td>719.390000</td>\n",
              "    </tr>\n",
              "    <tr>\n",
              "      <th>1</th>\n",
              "      <td>1971-12-31</td>\n",
              "      <td>793.608000</td>\n",
              "    </tr>\n",
              "    <tr>\n",
              "      <th>2</th>\n",
              "      <td>1972-12-31</td>\n",
              "      <td>854.152000</td>\n",
              "    </tr>\n",
              "    <tr>\n",
              "      <th>3</th>\n",
              "      <td>1973-12-31</td>\n",
              "      <td>940.721561</td>\n",
              "    </tr>\n",
              "    <tr>\n",
              "      <th>4</th>\n",
              "      <td>1974-12-31</td>\n",
              "      <td>1033.720000</td>\n",
              "    </tr>\n",
              "  </tbody>\n",
              "</table>\n",
              "</div>\n",
              "      <button class=\"colab-df-convert\" onclick=\"convertToInteractive('df-98080240-62fc-4f6d-ac8b-c09b4e565663')\"\n",
              "              title=\"Convert this dataframe to an interactive table.\"\n",
              "              style=\"display:none;\">\n",
              "        \n",
              "  <svg xmlns=\"http://www.w3.org/2000/svg\" height=\"24px\"viewBox=\"0 0 24 24\"\n",
              "       width=\"24px\">\n",
              "    <path d=\"M0 0h24v24H0V0z\" fill=\"none\"/>\n",
              "    <path d=\"M18.56 5.44l.94 2.06.94-2.06 2.06-.94-2.06-.94-.94-2.06-.94 2.06-2.06.94zm-11 1L8.5 8.5l.94-2.06 2.06-.94-2.06-.94L8.5 2.5l-.94 2.06-2.06.94zm10 10l.94 2.06.94-2.06 2.06-.94-2.06-.94-.94-2.06-.94 2.06-2.06.94z\"/><path d=\"M17.41 7.96l-1.37-1.37c-.4-.4-.92-.59-1.43-.59-.52 0-1.04.2-1.43.59L10.3 9.45l-7.72 7.72c-.78.78-.78 2.05 0 2.83L4 21.41c.39.39.9.59 1.41.59.51 0 1.02-.2 1.41-.59l7.78-7.78 2.81-2.81c.8-.78.8-2.07 0-2.86zM5.41 20L4 18.59l7.72-7.72 1.47 1.35L5.41 20z\"/>\n",
              "  </svg>\n",
              "      </button>\n",
              "      \n",
              "  <style>\n",
              "    .colab-df-container {\n",
              "      display:flex;\n",
              "      flex-wrap:wrap;\n",
              "      gap: 12px;\n",
              "    }\n",
              "\n",
              "    .colab-df-convert {\n",
              "      background-color: #E8F0FE;\n",
              "      border: none;\n",
              "      border-radius: 50%;\n",
              "      cursor: pointer;\n",
              "      display: none;\n",
              "      fill: #1967D2;\n",
              "      height: 32px;\n",
              "      padding: 0 0 0 0;\n",
              "      width: 32px;\n",
              "    }\n",
              "\n",
              "    .colab-df-convert:hover {\n",
              "      background-color: #E2EBFA;\n",
              "      box-shadow: 0px 1px 2px rgba(60, 64, 67, 0.3), 0px 1px 3px 1px rgba(60, 64, 67, 0.15);\n",
              "      fill: #174EA6;\n",
              "    }\n",
              "\n",
              "    [theme=dark] .colab-df-convert {\n",
              "      background-color: #3B4455;\n",
              "      fill: #D2E3FC;\n",
              "    }\n",
              "\n",
              "    [theme=dark] .colab-df-convert:hover {\n",
              "      background-color: #434B5C;\n",
              "      box-shadow: 0px 1px 3px 1px rgba(0, 0, 0, 0.15);\n",
              "      filter: drop-shadow(0px 1px 2px rgba(0, 0, 0, 0.3));\n",
              "      fill: #FFFFFF;\n",
              "    }\n",
              "  </style>\n",
              "\n",
              "      <script>\n",
              "        const buttonEl =\n",
              "          document.querySelector('#df-98080240-62fc-4f6d-ac8b-c09b4e565663 button.colab-df-convert');\n",
              "        buttonEl.style.display =\n",
              "          google.colab.kernel.accessAllowed ? 'block' : 'none';\n",
              "\n",
              "        async function convertToInteractive(key) {\n",
              "          const element = document.querySelector('#df-98080240-62fc-4f6d-ac8b-c09b4e565663');\n",
              "          const dataTable =\n",
              "            await google.colab.kernel.invokeFunction('convertToInteractive',\n",
              "                                                     [key], {});\n",
              "          if (!dataTable) return;\n",
              "\n",
              "          const docLinkHtml = 'Like what you see? Visit the ' +\n",
              "            '<a target=\"_blank\" href=https://colab.research.google.com/notebooks/data_table.ipynb>data table notebook</a>'\n",
              "            + ' to learn more about interactive tables.';\n",
              "          element.innerHTML = '';\n",
              "          dataTable['output_type'] = 'display_data';\n",
              "          await google.colab.output.renderOutput(dataTable, element);\n",
              "          const docLink = document.createElement('div');\n",
              "          docLink.innerHTML = docLinkHtml;\n",
              "          element.appendChild(docLink);\n",
              "        }\n",
              "      </script>\n",
              "    </div>\n",
              "  </div>\n",
              "  "
            ]
          },
          "metadata": {},
          "execution_count": 7
        }
      ]
    },
    {
      "cell_type": "code",
      "source": [
        "# Espiando a estrutura serie temporal\n",
        "st_eletricidade.info()"
      ],
      "metadata": {
        "colab": {
          "base_uri": "https://localhost:8080/"
        },
        "id": "ahvZdUr17om7",
        "outputId": "3dead16c-2ace-4892-cb0f-457899cff8de"
      },
      "execution_count": 8,
      "outputs": [
        {
          "output_type": "stream",
          "name": "stdout",
          "text": [
            "<class 'pandas.core.frame.DataFrame'>\n",
            "RangeIndex: 52 entries, 0 to 51\n",
            "Data columns (total 2 columns):\n",
            " #   Column  Non-Null Count  Dtype         \n",
            "---  ------  --------------  -----         \n",
            " 0   ds      52 non-null     datetime64[ns]\n",
            " 1   y       52 non-null     float64       \n",
            "dtypes: datetime64[ns](1), float64(1)\n",
            "memory usage: 960.0 bytes\n"
          ]
        }
      ]
    },
    {
      "cell_type": "markdown",
      "source": [
        "### **Dividindo a série entre treino e teste**"
      ],
      "metadata": {
        "id": "Bd80yzGJFxAW"
      }
    },
    {
      "cell_type": "code",
      "source": [
        "# Dividindo entre treino e teste\n",
        "st_eletricidade_treino = st_eletricidade.query('ds<=\"2018-12-31\"')\n",
        "st_eletricidade_teste = st_eletricidade.query('ds>\"2018-12-31\"')\n",
        "\n",
        "# Verificando a divisão\n",
        "st_eletricidade_treino.shape , st_eletricidade_teste.shape"
      ],
      "metadata": {
        "colab": {
          "base_uri": "https://localhost:8080/"
        },
        "id": "8KQJ1t6XFyAS",
        "outputId": "7e83c458-9487-4348-eaeb-5c4a4cf58f50"
      },
      "execution_count": 9,
      "outputs": [
        {
          "output_type": "execute_result",
          "data": {
            "text/plain": [
              "((49, 2), (3, 2))"
            ]
          },
          "metadata": {},
          "execution_count": 9
        }
      ]
    },
    {
      "cell_type": "markdown",
      "source": [
        "### **Fazendo a modelagem com o Prophet**"
      ],
      "metadata": {
        "id": "Gr-1aqZrFekV"
      }
    },
    {
      "cell_type": "code",
      "source": [
        "# Instanciando o modelo\n",
        "modelo = Prophet()"
      ],
      "metadata": {
        "id": "5xP-1-RY8F6A"
      },
      "execution_count": 10,
      "outputs": []
    },
    {
      "cell_type": "code",
      "source": [
        "# Ajustando o modelo aos dados\n",
        "modelo.fit(st_eletricidade_treino)"
      ],
      "metadata": {
        "colab": {
          "base_uri": "https://localhost:8080/"
        },
        "id": "IzTEL9Qa8MYM",
        "outputId": "1f3c9ca2-1a8d-4dac-f1d1-d74b30308694"
      },
      "execution_count": 11,
      "outputs": [
        {
          "output_type": "stream",
          "name": "stderr",
          "text": [
            "INFO:fbprophet:Disabling weekly seasonality. Run prophet with weekly_seasonality=True to override this.\n",
            "INFO:fbprophet:Disabling daily seasonality. Run prophet with daily_seasonality=True to override this.\n"
          ]
        },
        {
          "output_type": "execute_result",
          "data": {
            "text/plain": [
              "<fbprophet.forecaster.Prophet at 0x7fc143537dd0>"
            ]
          },
          "metadata": {},
          "execution_count": 11
        }
      ]
    },
    {
      "cell_type": "markdown",
      "source": [
        "### **Fazendo Previsão com o Prophet**"
      ],
      "metadata": {
        "id": "hCK8tNnKeidj"
      }
    },
    {
      "cell_type": "code",
      "source": [
        "# Criando dataframe com os períodos futuros para as previsões\n",
        "st_futuro = modelo.make_future_dataframe(\n",
        "    periods=3, \n",
        "    freq = 'A', \n",
        "    include_history = True\n",
        ")\n",
        "\n",
        "# Espiando o df gerado\n",
        "st_futuro.tail(5)"
      ],
      "metadata": {
        "colab": {
          "base_uri": "https://localhost:8080/",
          "height": 206
        },
        "id": "FiudDEVm8hLC",
        "outputId": "0924e31c-c34d-4d38-c0ec-28190db2f6e0"
      },
      "execution_count": 12,
      "outputs": [
        {
          "output_type": "execute_result",
          "data": {
            "text/plain": [
              "           ds\n",
              "47 2017-12-31\n",
              "48 2018-12-31\n",
              "49 2019-12-31\n",
              "50 2020-12-31\n",
              "51 2021-12-31"
            ],
            "text/html": [
              "\n",
              "  <div id=\"df-42d451e4-3c23-4d26-b92d-e21c8e4021c9\">\n",
              "    <div class=\"colab-df-container\">\n",
              "      <div>\n",
              "<style scoped>\n",
              "    .dataframe tbody tr th:only-of-type {\n",
              "        vertical-align: middle;\n",
              "    }\n",
              "\n",
              "    .dataframe tbody tr th {\n",
              "        vertical-align: top;\n",
              "    }\n",
              "\n",
              "    .dataframe thead th {\n",
              "        text-align: right;\n",
              "    }\n",
              "</style>\n",
              "<table border=\"1\" class=\"dataframe\">\n",
              "  <thead>\n",
              "    <tr style=\"text-align: right;\">\n",
              "      <th></th>\n",
              "      <th>ds</th>\n",
              "    </tr>\n",
              "  </thead>\n",
              "  <tbody>\n",
              "    <tr>\n",
              "      <th>47</th>\n",
              "      <td>2017-12-31</td>\n",
              "    </tr>\n",
              "    <tr>\n",
              "      <th>48</th>\n",
              "      <td>2018-12-31</td>\n",
              "    </tr>\n",
              "    <tr>\n",
              "      <th>49</th>\n",
              "      <td>2019-12-31</td>\n",
              "    </tr>\n",
              "    <tr>\n",
              "      <th>50</th>\n",
              "      <td>2020-12-31</td>\n",
              "    </tr>\n",
              "    <tr>\n",
              "      <th>51</th>\n",
              "      <td>2021-12-31</td>\n",
              "    </tr>\n",
              "  </tbody>\n",
              "</table>\n",
              "</div>\n",
              "      <button class=\"colab-df-convert\" onclick=\"convertToInteractive('df-42d451e4-3c23-4d26-b92d-e21c8e4021c9')\"\n",
              "              title=\"Convert this dataframe to an interactive table.\"\n",
              "              style=\"display:none;\">\n",
              "        \n",
              "  <svg xmlns=\"http://www.w3.org/2000/svg\" height=\"24px\"viewBox=\"0 0 24 24\"\n",
              "       width=\"24px\">\n",
              "    <path d=\"M0 0h24v24H0V0z\" fill=\"none\"/>\n",
              "    <path d=\"M18.56 5.44l.94 2.06.94-2.06 2.06-.94-2.06-.94-.94-2.06-.94 2.06-2.06.94zm-11 1L8.5 8.5l.94-2.06 2.06-.94-2.06-.94L8.5 2.5l-.94 2.06-2.06.94zm10 10l.94 2.06.94-2.06 2.06-.94-2.06-.94-.94-2.06-.94 2.06-2.06.94z\"/><path d=\"M17.41 7.96l-1.37-1.37c-.4-.4-.92-.59-1.43-.59-.52 0-1.04.2-1.43.59L10.3 9.45l-7.72 7.72c-.78.78-.78 2.05 0 2.83L4 21.41c.39.39.9.59 1.41.59.51 0 1.02-.2 1.41-.59l7.78-7.78 2.81-2.81c.8-.78.8-2.07 0-2.86zM5.41 20L4 18.59l7.72-7.72 1.47 1.35L5.41 20z\"/>\n",
              "  </svg>\n",
              "      </button>\n",
              "      \n",
              "  <style>\n",
              "    .colab-df-container {\n",
              "      display:flex;\n",
              "      flex-wrap:wrap;\n",
              "      gap: 12px;\n",
              "    }\n",
              "\n",
              "    .colab-df-convert {\n",
              "      background-color: #E8F0FE;\n",
              "      border: none;\n",
              "      border-radius: 50%;\n",
              "      cursor: pointer;\n",
              "      display: none;\n",
              "      fill: #1967D2;\n",
              "      height: 32px;\n",
              "      padding: 0 0 0 0;\n",
              "      width: 32px;\n",
              "    }\n",
              "\n",
              "    .colab-df-convert:hover {\n",
              "      background-color: #E2EBFA;\n",
              "      box-shadow: 0px 1px 2px rgba(60, 64, 67, 0.3), 0px 1px 3px 1px rgba(60, 64, 67, 0.15);\n",
              "      fill: #174EA6;\n",
              "    }\n",
              "\n",
              "    [theme=dark] .colab-df-convert {\n",
              "      background-color: #3B4455;\n",
              "      fill: #D2E3FC;\n",
              "    }\n",
              "\n",
              "    [theme=dark] .colab-df-convert:hover {\n",
              "      background-color: #434B5C;\n",
              "      box-shadow: 0px 1px 3px 1px rgba(0, 0, 0, 0.15);\n",
              "      filter: drop-shadow(0px 1px 2px rgba(0, 0, 0, 0.3));\n",
              "      fill: #FFFFFF;\n",
              "    }\n",
              "  </style>\n",
              "\n",
              "      <script>\n",
              "        const buttonEl =\n",
              "          document.querySelector('#df-42d451e4-3c23-4d26-b92d-e21c8e4021c9 button.colab-df-convert');\n",
              "        buttonEl.style.display =\n",
              "          google.colab.kernel.accessAllowed ? 'block' : 'none';\n",
              "\n",
              "        async function convertToInteractive(key) {\n",
              "          const element = document.querySelector('#df-42d451e4-3c23-4d26-b92d-e21c8e4021c9');\n",
              "          const dataTable =\n",
              "            await google.colab.kernel.invokeFunction('convertToInteractive',\n",
              "                                                     [key], {});\n",
              "          if (!dataTable) return;\n",
              "\n",
              "          const docLinkHtml = 'Like what you see? Visit the ' +\n",
              "            '<a target=\"_blank\" href=https://colab.research.google.com/notebooks/data_table.ipynb>data table notebook</a>'\n",
              "            + ' to learn more about interactive tables.';\n",
              "          element.innerHTML = '';\n",
              "          dataTable['output_type'] = 'display_data';\n",
              "          await google.colab.output.renderOutput(dataTable, element);\n",
              "          const docLink = document.createElement('div');\n",
              "          docLink.innerHTML = docLinkHtml;\n",
              "          element.appendChild(docLink);\n",
              "        }\n",
              "      </script>\n",
              "    </div>\n",
              "  </div>\n",
              "  "
            ]
          },
          "metadata": {},
          "execution_count": 12
        }
      ]
    },
    {
      "cell_type": "code",
      "source": [
        "# Realizando as previsões\n",
        "previsao_Prophet = modelo.predict(st_futuro)"
      ],
      "metadata": {
        "id": "LdpOyIxs9qWT"
      },
      "execution_count": 13,
      "outputs": []
    },
    {
      "cell_type": "code",
      "source": [
        "# Fazendo grafico da previsao\n",
        "grafico_previsao_Prophet = modelo.plot(previsao_Prophet)\n",
        "grafico_previsao_Prophet.show()"
      ],
      "metadata": {
        "colab": {
          "base_uri": "https://localhost:8080/",
          "height": 441
        },
        "id": "nlqhJvnF-xIk",
        "outputId": "4f2db58d-ebac-48ef-ca56-e30e243e3471"
      },
      "execution_count": 14,
      "outputs": [
        {
          "output_type": "display_data",
          "data": {
            "text/plain": [
              "<Figure size 720x432 with 1 Axes>"
            ],
            "image/png": "[encoded data removed]"
          },
          "metadata": {}
        }
      ]
    },
    {
      "cell_type": "code",
      "source": [
        "# Carregando biblioteca necessária\n",
        "import matplotlib.pyplot as plt\n",
        "\n",
        "# Inserindo os dados de teste no grafico da previsao\n",
        "grafico_previsao_Prophet = modelo.plot(previsao_Prophet)\n",
        "plt.plot(st_eletricidade_teste['ds'], st_eletricidade_teste['y'],color='red', label='dados reais de teste', marker = 'o')\n",
        "grafico_previsao_Prophet.show()"
      ],
      "metadata": {
        "colab": {
          "base_uri": "https://localhost:8080/",
          "height": 441
        },
        "id": "6EZ2eL8Qftxn",
        "outputId": "c23edb87-324a-4eb7-9369-84d6097077b6"
      },
      "execution_count": 15,
      "outputs": [
        {
          "output_type": "display_data",
          "data": {
            "text/plain": [
              "<Figure size 720x432 with 1 Axes>"
            ],
            "image/png": "[encoded data removed]"
          },
          "metadata": {}
        }
      ]
    },
    {
      "cell_type": "code",
      "source": [
        "# Entendo a estrutura do df resultante da previsao\n",
        "previsao_Prophet.info()"
      ],
      "metadata": {
        "colab": {
          "base_uri": "https://localhost:8080/"
        },
        "id": "Pdtjf_as-Hpg",
        "outputId": "9704e755-584e-4aec-a02c-4d13f7afbb4a"
      },
      "execution_count": 16,
      "outputs": [
        {
          "output_type": "stream",
          "name": "stdout",
          "text": [
            "<class 'pandas.core.frame.DataFrame'>\n",
            "RangeIndex: 52 entries, 0 to 51\n",
            "Data columns (total 16 columns):\n",
            " #   Column                      Non-Null Count  Dtype         \n",
            "---  ------                      --------------  -----         \n",
            " 0   ds                          52 non-null     datetime64[ns]\n",
            " 1   trend                       52 non-null     float64       \n",
            " 2   yhat_lower                  52 non-null     float64       \n",
            " 3   yhat_upper                  52 non-null     float64       \n",
            " 4   trend_lower                 52 non-null     float64       \n",
            " 5   trend_upper                 52 non-null     float64       \n",
            " 6   additive_terms              52 non-null     float64       \n",
            " 7   additive_terms_lower        52 non-null     float64       \n",
            " 8   additive_terms_upper        52 non-null     float64       \n",
            " 9   yearly                      52 non-null     float64       \n",
            " 10  yearly_lower                52 non-null     float64       \n",
            " 11  yearly_upper                52 non-null     float64       \n",
            " 12  multiplicative_terms        52 non-null     float64       \n",
            " 13  multiplicative_terms_lower  52 non-null     float64       \n",
            " 14  multiplicative_terms_upper  52 non-null     float64       \n",
            " 15  yhat                        52 non-null     float64       \n",
            "dtypes: datetime64[ns](1), float64(15)\n",
            "memory usage: 6.6 KB\n"
          ]
        }
      ]
    },
    {
      "cell_type": "code",
      "source": [
        "# Visualizando somente previsoes das ultimas instâncias\n",
        "previsao_Prophet[['ds', 'yhat', 'yhat_lower', 'yhat_upper']].tail()"
      ],
      "metadata": {
        "colab": {
          "base_uri": "https://localhost:8080/",
          "height": 206
        },
        "id": "Xojporl4-GH7",
        "outputId": "4715d7d8-fed3-48d1-99c8-a3f9e57bf89f"
      },
      "execution_count": 17,
      "outputs": [
        {
          "output_type": "execute_result",
          "data": {
            "text/plain": [
              "           ds          yhat    yhat_lower    yhat_upper\n",
              "47 2017-12-31  11545.188163  11082.132106  12055.210161\n",
              "48 2018-12-31  11883.388180  11410.905736  12369.091610\n",
              "49 2019-12-31  12249.169222  11727.423352  12720.091499\n",
              "50 2020-12-31  12530.806294  12075.814208  13020.996074\n",
              "51 2021-12-31  12841.383170  12362.617717  13368.283328"
            ],
            "text/html": [
              "\n",
              "  <div id=\"df-9c0de5ba-9e26-481b-b407-48edab17e638\">\n",
              "    <div class=\"colab-df-container\">\n",
              "      <div>\n",
              "<style scoped>\n",
              "    .dataframe tbody tr th:only-of-type {\n",
              "        vertical-align: middle;\n",
              "    }\n",
              "\n",
              "    .dataframe tbody tr th {\n",
              "        vertical-align: top;\n",
              "    }\n",
              "\n",
              "    .dataframe thead th {\n",
              "        text-align: right;\n",
              "    }\n",
              "</style>\n",
              "<table border=\"1\" class=\"dataframe\">\n",
              "  <thead>\n",
              "    <tr style=\"text-align: right;\">\n",
              "      <th></th>\n",
              "      <th>ds</th>\n",
              "      <th>yhat</th>\n",
              "      <th>yhat_lower</th>\n",
              "      <th>yhat_upper</th>\n",
              "    </tr>\n",
              "  </thead>\n",
              "  <tbody>\n",
              "    <tr>\n",
              "      <th>47</th>\n",
              "      <td>2017-12-31</td>\n",
              "      <td>11545.188163</td>\n",
              "      <td>11082.132106</td>\n",
              "      <td>12055.210161</td>\n",
              "    </tr>\n",
              "    <tr>\n",
              "      <th>48</th>\n",
              "      <td>2018-12-31</td>\n",
              "      <td>11883.388180</td>\n",
              "      <td>11410.905736</td>\n",
              "      <td>12369.091610</td>\n",
              "    </tr>\n",
              "    <tr>\n",
              "      <th>49</th>\n",
              "      <td>2019-12-31</td>\n",
              "      <td>12249.169222</td>\n",
              "      <td>11727.423352</td>\n",
              "      <td>12720.091499</td>\n",
              "    </tr>\n",
              "    <tr>\n",
              "      <th>50</th>\n",
              "      <td>2020-12-31</td>\n",
              "      <td>12530.806294</td>\n",
              "      <td>12075.814208</td>\n",
              "      <td>13020.996074</td>\n",
              "    </tr>\n",
              "    <tr>\n",
              "      <th>51</th>\n",
              "      <td>2021-12-31</td>\n",
              "      <td>12841.383170</td>\n",
              "      <td>12362.617717</td>\n",
              "      <td>13368.283328</td>\n",
              "    </tr>\n",
              "  </tbody>\n",
              "</table>\n",
              "</div>\n",
              "      <button class=\"colab-df-convert\" onclick=\"convertToInteractive('df-9c0de5ba-9e26-481b-b407-48edab17e638')\"\n",
              "              title=\"Convert this dataframe to an interactive table.\"\n",
              "              style=\"display:none;\">\n",
              "        \n",
              "  <svg xmlns=\"http://www.w3.org/2000/svg\" height=\"24px\"viewBox=\"0 0 24 24\"\n",
              "       width=\"24px\">\n",
              "    <path d=\"M0 0h24v24H0V0z\" fill=\"none\"/>\n",
              "    <path d=\"M18.56 5.44l.94 2.06.94-2.06 2.06-.94-2.06-.94-.94-2.06-.94 2.06-2.06.94zm-11 1L8.5 8.5l.94-2.06 2.06-.94-2.06-.94L8.5 2.5l-.94 2.06-2.06.94zm10 10l.94 2.06.94-2.06 2.06-.94-2.06-.94-.94-2.06-.94 2.06-2.06.94z\"/><path d=\"M17.41 7.96l-1.37-1.37c-.4-.4-.92-.59-1.43-.59-.52 0-1.04.2-1.43.59L10.3 9.45l-7.72 7.72c-.78.78-.78 2.05 0 2.83L4 21.41c.39.39.9.59 1.41.59.51 0 1.02-.2 1.41-.59l7.78-7.78 2.81-2.81c.8-.78.8-2.07 0-2.86zM5.41 20L4 18.59l7.72-7.72 1.47 1.35L5.41 20z\"/>\n",
              "  </svg>\n",
              "      </button>\n",
              "      \n",
              "  <style>\n",
              "    .colab-df-container {\n",
              "      display:flex;\n",
              "      flex-wrap:wrap;\n",
              "      gap: 12px;\n",
              "    }\n",
              "\n",
              "    .colab-df-convert {\n",
              "      background-color: #E8F0FE;\n",
              "      border: none;\n",
              "      border-radius: 50%;\n",
              "      cursor: pointer;\n",
              "      display: none;\n",
              "      fill: #1967D2;\n",
              "      height: 32px;\n",
              "      padding: 0 0 0 0;\n",
              "      width: 32px;\n",
              "    }\n",
              "\n",
              "    .colab-df-convert:hover {\n",
              "      background-color: #E2EBFA;\n",
              "      box-shadow: 0px 1px 2px rgba(60, 64, 67, 0.3), 0px 1px 3px 1px rgba(60, 64, 67, 0.15);\n",
              "      fill: #174EA6;\n",
              "    }\n",
              "\n",
              "    [theme=dark] .colab-df-convert {\n",
              "      background-color: #3B4455;\n",
              "      fill: #D2E3FC;\n",
              "    }\n",
              "\n",
              "    [theme=dark] .colab-df-convert:hover {\n",
              "      background-color: #434B5C;\n",
              "      box-shadow: 0px 1px 3px 1px rgba(0, 0, 0, 0.15);\n",
              "      filter: drop-shadow(0px 1px 2px rgba(0, 0, 0, 0.3));\n",
              "      fill: #FFFFFF;\n",
              "    }\n",
              "  </style>\n",
              "\n",
              "      <script>\n",
              "        const buttonEl =\n",
              "          document.querySelector('#df-9c0de5ba-9e26-481b-b407-48edab17e638 button.colab-df-convert');\n",
              "        buttonEl.style.display =\n",
              "          google.colab.kernel.accessAllowed ? 'block' : 'none';\n",
              "\n",
              "        async function convertToInteractive(key) {\n",
              "          const element = document.querySelector('#df-9c0de5ba-9e26-481b-b407-48edab17e638');\n",
              "          const dataTable =\n",
              "            await google.colab.kernel.invokeFunction('convertToInteractive',\n",
              "                                                     [key], {});\n",
              "          if (!dataTable) return;\n",
              "\n",
              "          const docLinkHtml = 'Like what you see? Visit the ' +\n",
              "            '<a target=\"_blank\" href=https://colab.research.google.com/notebooks/data_table.ipynb>data table notebook</a>'\n",
              "            + ' to learn more about interactive tables.';\n",
              "          element.innerHTML = '';\n",
              "          dataTable['output_type'] = 'display_data';\n",
              "          await google.colab.output.renderOutput(dataTable, element);\n",
              "          const docLink = document.createElement('div');\n",
              "          docLink.innerHTML = docLinkHtml;\n",
              "          element.appendChild(docLink);\n",
              "        }\n",
              "      </script>\n",
              "    </div>\n",
              "  </div>\n",
              "  "
            ]
          },
          "metadata": {},
          "execution_count": 17
        }
      ]
    },
    {
      "cell_type": "markdown",
      "source": [
        "### **Avaliando a qualidade da previsão**"
      ],
      "metadata": {
        "id": "b5rTfKdcFj7X"
      }
    },
    {
      "cell_type": "code",
      "source": [
        "## Calculando métrica de avaliação do modelo de previsão\n",
        "## erro médio absoluto (MAE) - meanabs\n",
        "## raiz do erro quadrático médio (RMSE) - rmse\n",
        "\n",
        "# Carregando bibliotecas necessárias\n",
        "from statsmodels.tools.eval_measures import meanabs, rmse\n",
        "\n",
        "# Calculando as métricas para previsão com modelo gerado pelo autorima\n",
        "mae_Prophet = meanabs(st_eletricidade_teste.y.values,previsao_Prophet['yhat'].tail(3).values)\n",
        "rmse_Prophet = rmse(st_eletricidade_teste.y.values,previsao_Prophet['yhat'].tail(3).values)\n",
        "\n",
        "# Verificando as métricas\n",
        "print('Prophet: MAE = {}'.format(mae_Prophet))\n",
        "print('Prophet: RMSE = {}'.format(rmse_Prophet))"
      ],
      "metadata": {
        "colab": {
          "base_uri": "https://localhost:8080/"
        },
        "id": "A_znJ3tHIncy",
        "outputId": "234ae145-964a-4051-ba02-52e8d7f2eb1f"
      },
      "execution_count": 18,
      "outputs": [
        {
          "output_type": "stream",
          "name": "stdout",
          "text": [
            "Prophet: MAE = 140.85513655271947\n",
            "Prophet: RMSE = 168.84838130158994\n"
          ]
        }
      ]
    },
    {
      "cell_type": "markdown",
      "source": [
        "\n",
        "## **Auto ARIMA**"
      ],
      "metadata": {
        "id": "e9xxUeOIP_2S"
      }
    },
    {
      "cell_type": "markdown",
      "source": [
        "### **Gerando o objeto tipo series com os dados de treino**"
      ],
      "metadata": {
        "id": "6HE-v2tSfgJa"
      }
    },
    {
      "cell_type": "code",
      "source": [
        "# Criando a  Serie temporal de treino\n",
        "serie_eletricidade_treino = pd.Series(\n",
        "    data = epe.query('ano<=2018').eletricidade.values, \n",
        "    index = pd.date_range(start=\"1970-12-31\",end=\"2018-12-31\",  freq='A')\n",
        ")\n",
        "\n",
        "# Espiando o resultado\n",
        "serie_eletricidade_treino"
      ],
      "metadata": {
        "colab": {
          "base_uri": "https://localhost:8080/"
        },
        "id": "qg2aCkh8hHU7",
        "outputId": "4007bf11-c543-410a-b5b2-242c40dfd8d6"
      },
      "execution_count": 19,
      "outputs": [
        {
          "output_type": "execute_result",
          "data": {
            "text/plain": [
              "1970-12-31      719.390000\n",
              "1971-12-31      793.608000\n",
              "1972-12-31      854.152000\n",
              "1973-12-31      940.721561\n",
              "1974-12-31     1033.720000\n",
              "1975-12-31     1136.060000\n",
              "1976-12-31     1279.422000\n",
              "1977-12-31     1473.438000\n",
              "1978-12-31     1629.356000\n",
              "1979-12-31     1807.720000\n",
              "1980-12-31     2000.618000\n",
              "1981-12-31     2154.472000\n",
              "1982-12-31     2328.106000\n",
              "1983-12-31     2557.296000\n",
              "1984-12-31     2659.636000\n",
              "1985-12-31     2806.524000\n",
              "1986-12-31     3074.930000\n",
              "1987-12-31     3300.594000\n",
              "1988-12-31     3485.924000\n",
              "1989-12-31     3760.608000\n",
              "1990-12-31     4185.276000\n",
              "1991-12-31     4389.182000\n",
              "1992-12-31     4460.390000\n",
              "1993-12-31     4612.094000\n",
              "1994-12-31     4811.872000\n",
              "1995-12-31     5467.966000\n",
              "1996-12-31     5938.816000\n",
              "1997-12-31     6370.106000\n",
              "1998-12-31     6826.508000\n",
              "1999-12-31     6991.026000\n",
              "2000-12-31     7190.718000\n",
              "2001-12-31     6344.220000\n",
              "2002-12-31     6256.672000\n",
              "2003-12-31     6548.298000\n",
              "2004-12-31     6757.622000\n",
              "2005-12-31     7154.598000\n",
              "2006-12-31     7379.660000\n",
              "2007-12-31     7815.794638\n",
              "2008-12-31     8220.309805\n",
              "2009-12-31     8654.868000\n",
              "2010-12-31     9220.461620\n",
              "2011-12-31     9629.477276\n",
              "2012-12-31    10117.543060\n",
              "2013-12-31    10741.015343\n",
              "2014-12-31    11377.959100\n",
              "2015-12-31    11282.988613\n",
              "2016-12-31    11428.943214\n",
              "2017-12-31    11561.807010\n",
              "2018-12-31    11851.676107\n",
              "Freq: A-DEC, dtype: float64"
            ]
          },
          "metadata": {},
          "execution_count": 19
        }
      ]
    },
    {
      "cell_type": "markdown",
      "source": [
        "### **Preparando ambiente**"
      ],
      "metadata": {
        "id": "wPqZs3duQsbV"
      }
    },
    {
      "cell_type": "code",
      "source": [
        "#Instalando biblioteca necessária\n",
        "!pip install pmdarima"
      ],
      "metadata": {
        "colab": {
          "base_uri": "https://localhost:8080/"
        },
        "id": "fkRTakoWLmvg",
        "outputId": "fb5f12cf-1fe4-4ad1-ec11-bc35072cd96d"
      },
      "execution_count": 20,
      "outputs": [
        {
          "output_type": "stream",
          "name": "stdout",
          "text": [
            "Looking in indexes: https://pypi.org/simple, https://us-python.pkg.dev/colab-wheels/public/simple/\n",
            "Requirement already satisfied: pmdarima in /usr/local/lib/python3.7/dist-packages (1.8.5)\n",
            "Requirement already satisfied: numpy>=1.19.3 in /usr/local/lib/python3.7/dist-packages (from pmdarima) (1.21.6)\n",
            "Requirement already satisfied: scipy>=1.3.2 in /usr/local/lib/python3.7/dist-packages (from pmdarima) (1.4.1)\n",
            "Requirement already satisfied: statsmodels!=0.12.0,>=0.11 in /usr/local/lib/python3.7/dist-packages (from pmdarima) (0.13.2)\n",
            "Requirement already satisfied: pandas>=0.19 in /usr/local/lib/python3.7/dist-packages (from pmdarima) (1.3.5)\n",
            "Requirement already satisfied: urllib3 in /usr/local/lib/python3.7/dist-packages (from pmdarima) (1.24.3)\n",
            "Requirement already satisfied: scikit-learn>=0.22 in /usr/local/lib/python3.7/dist-packages (from pmdarima) (1.0.2)\n",
            "Requirement already satisfied: Cython!=0.29.18,>=0.29 in /usr/local/lib/python3.7/dist-packages (from pmdarima) (0.29.30)\n",
            "Requirement already satisfied: setuptools!=50.0.0,>=38.6.0 in /usr/local/lib/python3.7/dist-packages (from pmdarima) (57.4.0)\n",
            "Requirement already satisfied: joblib>=0.11 in /usr/local/lib/python3.7/dist-packages (from pmdarima) (1.1.0)\n",
            "Requirement already satisfied: python-dateutil>=2.7.3 in /usr/local/lib/python3.7/dist-packages (from pandas>=0.19->pmdarima) (2.8.2)\n",
            "Requirement already satisfied: pytz>=2017.3 in /usr/local/lib/python3.7/dist-packages (from pandas>=0.19->pmdarima) (2022.1)\n",
            "Requirement already satisfied: six>=1.5 in /usr/local/lib/python3.7/dist-packages (from python-dateutil>=2.7.3->pandas>=0.19->pmdarima) (1.15.0)\n",
            "Requirement already satisfied: threadpoolctl>=2.0.0 in /usr/local/lib/python3.7/dist-packages (from scikit-learn>=0.22->pmdarima) (3.1.0)\n",
            "Requirement already satisfied: packaging>=21.3 in /usr/local/lib/python3.7/dist-packages (from statsmodels!=0.12.0,>=0.11->pmdarima) (21.3)\n",
            "Requirement already satisfied: patsy>=0.5.2 in /usr/local/lib/python3.7/dist-packages (from statsmodels!=0.12.0,>=0.11->pmdarima) (0.5.2)\n",
            "Requirement already satisfied: pyparsing!=3.0.5,>=2.0.2 in /usr/local/lib/python3.7/dist-packages (from packaging>=21.3->statsmodels!=0.12.0,>=0.11->pmdarima) (3.0.9)\n"
          ]
        }
      ]
    },
    {
      "cell_type": "code",
      "source": [
        "# Importando biblioteca necessária\n",
        "import statsmodels.tsa\n",
        "from statsmodels.tsa.arima.model import ARIMA\n",
        "from pmdarima.arima import auto_arima"
      ],
      "metadata": {
        "id": "POWqK3N0Lpau"
      },
      "execution_count": 22,
      "outputs": []
    },
    {
      "cell_type": "markdown",
      "source": [
        "### **Ajustando Auto ARIMA**"
      ],
      "metadata": {
        "id": "_Erailj6DPOV"
      }
    },
    {
      "cell_type": "code",
      "source": [
        "### AUTOARIMA\n",
        "modelo_autoarima = auto_arima(\n",
        "    serie_eletricidade_treino, \n",
        "    trace = True, \n",
        "    stepwise = False, \n",
        "    seasonal=False, \n",
        "    with_intercept = False,\n",
        "    start_p=0, \n",
        "    start_d=0, \n",
        "    start_q=0, \n",
        "    max_p=6,\n",
        "    max_d=2, \n",
        "    max_q=6,\n",
        "    m=1)"
      ],
      "metadata": {
        "colab": {
          "base_uri": "https://localhost:8080/"
        },
        "id": "lMHkG6C2QcnZ",
        "outputId": "764fbc2a-065f-4586-a1cc-777fd80c64d2"
      },
      "execution_count": 23,
      "outputs": [
        {
          "output_type": "stream",
          "name": "stdout",
          "text": [
            " ARIMA(0,1,0)(0,0,0)[0]             : AIC=694.843, Time=0.05 sec\n",
            " ARIMA(0,1,1)(0,0,0)[0]             : AIC=677.838, Time=0.04 sec\n",
            " ARIMA(0,1,2)(0,0,0)[0]             : AIC=671.706, Time=0.06 sec\n",
            " ARIMA(0,1,3)(0,0,0)[0]             : AIC=671.587, Time=0.08 sec\n",
            " ARIMA(0,1,4)(0,0,0)[0]             : AIC=673.477, Time=0.12 sec\n",
            " ARIMA(0,1,5)(0,0,0)[0]             : AIC=inf, Time=0.18 sec\n",
            " ARIMA(1,1,0)(0,0,0)[0]             : AIC=665.086, Time=0.03 sec\n",
            " ARIMA(1,1,1)(0,0,0)[0]             : AIC=664.901, Time=0.05 sec\n",
            " ARIMA(1,1,2)(0,0,0)[0]             : AIC=664.747, Time=0.19 sec\n",
            " ARIMA(1,1,3)(0,0,0)[0]             : AIC=inf, Time=0.18 sec\n",
            " ARIMA(1,1,4)(0,0,0)[0]             : AIC=inf, Time=0.18 sec\n",
            " ARIMA(2,1,0)(0,0,0)[0]             : AIC=665.362, Time=0.05 sec\n",
            " ARIMA(2,1,1)(0,0,0)[0]             : AIC=inf, Time=0.10 sec\n",
            " ARIMA(2,1,2)(0,0,0)[0]             : AIC=668.037, Time=0.14 sec\n",
            " ARIMA(2,1,3)(0,0,0)[0]             : AIC=668.558, Time=0.31 sec\n",
            " ARIMA(3,1,0)(0,0,0)[0]             : AIC=667.121, Time=0.05 sec\n",
            " ARIMA(3,1,1)(0,0,0)[0]             : AIC=665.156, Time=0.16 sec\n",
            " ARIMA(3,1,2)(0,0,0)[0]             : AIC=inf, Time=0.17 sec\n",
            " ARIMA(4,1,0)(0,0,0)[0]             : AIC=668.821, Time=0.08 sec\n",
            " ARIMA(4,1,1)(0,0,0)[0]             : AIC=inf, Time=0.22 sec\n",
            " ARIMA(5,1,0)(0,0,0)[0]             : AIC=669.519, Time=0.11 sec\n",
            "\n",
            "Best model:  ARIMA(1,1,2)(0,0,0)[0]          \n",
            "Total fit time: 2.596 seconds\n"
          ]
        }
      ]
    },
    {
      "cell_type": "markdown",
      "source": [
        "### **Realizando Previsões com o autoARIMA**"
      ],
      "metadata": {
        "id": "c70uMNogQ1RG"
      }
    },
    {
      "cell_type": "code",
      "source": [
        "# # Ajustando o modelo selecionado aos dados e Predizendo 3 períodos\n",
        "previsao_autoarima = modelo_autoarima.fit(serie_eletricidade_treino).predict(n_periods=3)\n",
        "previsao_autoarima"
      ],
      "metadata": {
        "colab": {
          "base_uri": "https://localhost:8080/"
        },
        "id": "FrTixsH7PnTs",
        "outputId": "f3009e78-c0c0-4bb3-8d4a-0fd151162709"
      },
      "execution_count": 26,
      "outputs": [
        {
          "output_type": "execute_result",
          "data": {
            "text/plain": [
              "array([12140.29126907, 12402.61035011, 12664.06324643])"
            ]
          },
          "metadata": {},
          "execution_count": 26
        }
      ]
    },
    {
      "cell_type": "markdown",
      "source": [
        "### **Avaliando a qualidade da previsão do AutoARIMA**"
      ],
      "metadata": {
        "id": "9laL7z2gQUtI"
      }
    },
    {
      "cell_type": "code",
      "source": [
        "## Calculando métrica de avaliação do modelo de previsão\n",
        "## erro médio absoluto (MAE) - meanabs\n",
        "## raiz do erro quadrático médio (RMSE) - rmse\n",
        "\n",
        "# Calculando as métricas para previsão com modelo gerado pelo autorima\n",
        "mae_autoarima = meanabs(st_eletricidade_teste.y.values,previsao_autoarima)\n",
        "rmse_autoarima = rmse(st_eletricidade_teste.y.values,previsao_autoarima)\n",
        "\n",
        "# Verificando as métricas\n",
        "print('AUTOARIMA: MAE = {}'.format(mae_autoarima))\n",
        "print('AUTOARIMA: RMSE = {}'.format(rmse_autoarima))"
      ],
      "metadata": {
        "id": "7uIv4RAc9DR9",
        "colab": {
          "base_uri": "https://localhost:8080/"
        },
        "outputId": "3b8ba563-6fa2-4204-a94e-6f3c44264743"
      },
      "execution_count": 27,
      "outputs": [
        {
          "output_type": "stream",
          "name": "stdout",
          "text": [
            "AUTOARIMA: MAE = 278.9864099819703\n",
            "AUTOARIMA: RMSE = 295.1249619525393\n"
          ]
        }
      ]
    },
    {
      "cell_type": "markdown",
      "source": [
        "## **Comparando as predições do Prophet com o AutoARIMA**"
      ],
      "metadata": {
        "id": "R2EDyyFIQIdQ"
      }
    },
    {
      "cell_type": "code",
      "source": [
        "# Criando a  Serie temporal de previsao do AUTOARIMA\n",
        "st_eletricidade_prev_AUTOARIMA = pd.Series(\n",
        "    data = previsao_autoarima, \n",
        "    index = pd.date_range(start=\"2019-12-31\",end=\"2021-12-31\",  freq='A')\n",
        ")\n",
        "\n",
        "# Criando a  Serie temporal de previsao do Prophet\n",
        "st_eletricidade_prev_Prophet = pd.Series(\n",
        "    data = previsao_Prophet.query('ds>\"2018-12-31\"').yhat.values, \n",
        "    index = pd.date_range(start=\"2019-12-31\",end=\"2021-12-31\",  freq='A')\n",
        ")"
      ],
      "metadata": {
        "id": "j-T6h5MGe7qn"
      },
      "execution_count": 35,
      "outputs": []
    },
    {
      "cell_type": "code",
      "source": [
        "# Plotando a série com dados reais e ajustados pelo modelo\n",
        "fig, ax = plt.subplots(figsize = (15,6))\n",
        "plt.plot(st_eletricidade['ds'], st_eletricidade['y'], label='dados reais')\n",
        "plt.plot(st_eletricidade_prev_AUTOARIMA,color='red', label='previsão AUTOARIMA', marker = 'o')\n",
        "plt.plot(st_eletricidade_prev_Prophet ,color='green', label='previsão Prophet', marker = 'o')\n",
        "plt.legend(loc='best')\n",
        "plt.show()"
      ],
      "metadata": {
        "colab": {
          "base_uri": "https://localhost:8080/",
          "height": 374
        },
        "id": "2NZ6wE79SQP9",
        "outputId": "080d921d-5a85-48f4-9af7-6ea6892dc270"
      },
      "execution_count": 36,
      "outputs": [
        {
          "output_type": "display_data",
          "data": {
            "text/plain": [
              "<Figure size 1080x432 with 1 Axes>"
            ],
            "image/png": "[encoded data removed]"
          },
          "metadata": {
            "needs_background": "light"
          }
        }
      ]
    },
    {
      "cell_type": "code",
      "source": [
        "# Plotando a série com dados reais e ajustados pelo modelo\n",
        "fig, ax = plt.subplots(figsize = (15,6))\n",
        "plt.plot(st_eletricidade_teste['ds'], st_eletricidade_teste['y'], label='dados reais')\n",
        "plt.plot(st_eletricidade_prev_AUTOARIMA,color='red', label='previsão AUTOARIMA', marker = 'o')\n",
        "plt.plot(st_eletricidade_prev_Prophet ,color='green', label='previsão Prophet', marker = 'o')\n",
        "plt.legend(loc='best')\n",
        "plt.show()"
      ],
      "metadata": {
        "colab": {
          "base_uri": "https://localhost:8080/",
          "height": 374
        },
        "id": "bWsp50laW1_v",
        "outputId": "52c86faf-ddf4-48a2-f35d-06e3bc803ac3"
      },
      "execution_count": 37,
      "outputs": [
        {
          "output_type": "display_data",
          "data": {
            "text/plain": [
              "<Figure size 1080x432 with 1 Axes>"
            ],
            "image/png": "[encoded data removed]"
          },
          "metadata": {
            "needs_background": "light"
          }
        }
      ]
    },
    {
      "cell_type": "code",
      "source": [
        "# Verificando as métricas\n",
        "print('Comparando os Erros Médios Absolutos')\n",
        "print('AUTOARIMA: MAE = {}'.format(mae_autoarima))\n",
        "print('Prophet: MAE = {}'.format(mae_Prophet))\n",
        "\n",
        "print('\\n Comparando as Raízes dos Erros Quadráticos Médios')\n",
        "print('AUTOARIMA: RMSE = {}'.format(rmse_autoarima))\n",
        "print('Prophet: RMSE = {}'.format(rmse_Prophet))"
      ],
      "metadata": {
        "colab": {
          "base_uri": "https://localhost:8080/"
        },
        "id": "V2j0jSyxR5gg",
        "outputId": "c6f0bb46-2b64-4d21-8ad5-b2cbc860973a"
      },
      "execution_count": 38,
      "outputs": [
        {
          "output_type": "stream",
          "name": "stdout",
          "text": [
            "Comparando os Erros Médios Absolutos\n",
            "AUTOARIMA: MAE = 278.9864099819703\n",
            "Prophet: MAE = 140.85513655271947\n",
            "\n",
            " Comparando as Raízes dos Erros Quadráticos Médios\n",
            "AUTOARIMA: RMSE = 295.1249619525393\n",
            "Prophet: RMSE = 168.84838130158994\n"
          ]
        }
      ]
    },
    {
      "cell_type": "code",
      "source": [
        "# Carregando biblioteca necessária\n",
        "import matplotlib.pyplot as plt\n",
        "\n",
        "# Inserindo os dados de teste no grafico da previsao\n",
        "grafico_previsao_Prophet = modelo.plot(previsao_Prophet)\n",
        "plt.plot(st_eletricidade_teste['ds'], st_eletricidade_teste['y'],color='red', label='dados reais de teste', marker = 'o')\n",
        "grafico_previsao_Prophet.show()"
      ],
      "metadata": {
        "colab": {
          "base_uri": "https://localhost:8080/",
          "height": 441
        },
        "id": "RYDVGq1PNbTD",
        "outputId": "55d6f984-42cb-499d-ae21-cebc4d5ba492"
      },
      "execution_count": 39,
      "outputs": [
        {
          "output_type": "display_data",
          "data": {
            "text/plain": [
              "<Figure size 720x432 with 1 Axes>"
            ],
            "image/png": "[encoded data removed]"
          },
          "metadata": {}
        }
      ]
    }
  ]
}